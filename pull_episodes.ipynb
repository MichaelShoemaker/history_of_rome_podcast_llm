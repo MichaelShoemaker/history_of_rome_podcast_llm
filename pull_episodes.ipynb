{
 "cells": [
  {
   "cell_type": "code",
   "execution_count": 1,
   "id": "74289c92",
   "metadata": {},
   "outputs": [
    {
     "name": "stdout",
     "output_type": "stream",
     "text": [
      "Installing requests...\n",
      "Collecting requests\n",
      "  Using cached requests-2.32.5-py3-none-any.whl.metadata (4.9 kB)\n",
      "Collecting charset_normalizer<4,>=2 (from requests)\n",
      "  Using cached charset_normalizer-3.4.3-cp312-cp312-manylinux2014_x86_64.manylinux_2_17_x86_64.manylinux_2_28_x86_64.whl.metadata (36 kB)\n",
      "Collecting idna<4,>=2.5 (from requests)\n",
      "  Using cached idna-3.10-py3-none-any.whl.metadata (10 kB)\n",
      "Collecting urllib3<3,>=1.21.1 (from requests)\n",
      "  Using cached urllib3-2.5.0-py3-none-any.whl.metadata (6.5 kB)\n",
      "Collecting certifi>=2017.4.17 (from requests)\n",
      "  Using cached certifi-2025.8.3-py3-none-any.whl.metadata (2.4 kB)\n",
      "Using cached requests-2.32.5-py3-none-any.whl (64 kB)\n",
      "Using cached certifi-2025.8.3-py3-none-any.whl (161 kB)\n",
      "Using cached charset_normalizer-3.4.3-cp312-cp312-manylinux2014_x86_64.manylinux_2_17_x86_64.manylinux_2_28_x86_64.whl (151 kB)\n",
      "Using cached idna-3.10-py3-none-any.whl (70 kB)\n",
      "Using cached urllib3-2.5.0-py3-none-any.whl (129 kB)\n",
      "Installing collected packages: urllib3, idna, charset_normalizer, certifi, requests\n",
      "Successfully installed certifi-2025.8.3 charset_normalizer-3.4.3 idna-3.10 requests-2.32.5 urllib3-2.5.0\n",
      "Installing beautifulsoup4...\n",
      "Collecting beautifulsoup4\n",
      "  Downloading beautifulsoup4-4.14.0-py3-none-any.whl.metadata (3.8 kB)\n",
      "Collecting soupsieve>1.2 (from beautifulsoup4)\n",
      "  Using cached soupsieve-2.8-py3-none-any.whl.metadata (4.6 kB)\n",
      "Collecting typing-extensions>=4.0.0 (from beautifulsoup4)\n",
      "  Using cached typing_extensions-4.15.0-py3-none-any.whl.metadata (3.3 kB)\n",
      "Downloading beautifulsoup4-4.14.0-py3-none-any.whl (106 kB)\n",
      "\u001b[2K   \u001b[38;2;114;156;31m━━━━━━━━━━━━━━━━━━━━━━━━━━━━━━━━━━━━━━━━\u001b[0m \u001b[32m106.5/106.5 kB\u001b[0m \u001b[31m1.3 MB/s\u001b[0m eta \u001b[36m0:00:00\u001b[0m31m1.0 MB/s\u001b[0m eta \u001b[36m0:00:01\u001b[0m\n",
      "\u001b[?25hDownloading soupsieve-2.8-py3-none-any.whl (36 kB)\n",
      "Downloading typing_extensions-4.15.0-py3-none-any.whl (44 kB)\n",
      "\u001b[2K   \u001b[38;2;114;156;31m━━━━━━━━━━━━━━━━━━━━━━━━━━━━━━━━━━━━━━━━\u001b[0m \u001b[32m44.6/44.6 kB\u001b[0m \u001b[31m4.3 MB/s\u001b[0m eta \u001b[36m0:00:00\u001b[0m\n",
      "\u001b[?25hInstalling collected packages: typing-extensions, soupsieve, beautifulsoup4\n",
      "Successfully installed beautifulsoup4-4.14.0 soupsieve-2.8 typing-extensions-4.15.0\n",
      "Installing tqdm...\n",
      "Collecting tqdm\n",
      "  Using cached tqdm-4.67.1-py3-none-any.whl.metadata (57 kB)\n",
      "Using cached tqdm-4.67.1-py3-none-any.whl (78 kB)\n",
      "Installing collected packages: tqdm\n",
      "Successfully installed tqdm-4.67.1\n",
      "All required packages are installed!\n"
     ]
    }
   ],
   "source": [
    "# Install required packages if not already installed\n",
    "import subprocess\n",
    "import sys\n",
    "\n",
    "def install_package(package):\n",
    "    try:\n",
    "        __import__(package)\n",
    "    except ImportError:\n",
    "        print(f\"Installing {package}...\")\n",
    "        subprocess.check_call([sys.executable, \"-m\", \"pip\", \"install\", package])\n",
    "\n",
    "# Install required packages\n",
    "packages = ['requests', 'beautifulsoup4', 'tqdm']\n",
    "for package in packages:\n",
    "    install_package(package)\n",
    "\n",
    "print(\"All required packages are installed!\")\n"
   ]
  },
  {
   "cell_type": "code",
   "execution_count": 2,
   "id": "8e63f170",
   "metadata": {},
   "outputs": [
    {
     "name": "stdout",
     "output_type": "stream",
     "text": [
      "Scraping MP3 files from: https://archive.org/download/the-history-of-rome\n",
      "Downloads will be saved to: history_of_rome_episodes\n",
      "Found 192 MP3 files:\n",
      "1. 20070728 - 001- In the Beginning.mp3\n",
      "2. 20100225 - 002- Youthful Indiscretions.mp3\n",
      "3. 20100225 - 003a- The Seven Kings of Rome.mp3\n",
      "4. 20100225 - 003b- The Seven Kings of Rome.mp3\n",
      "5. 20100225 - 004- The Public Thing.mp3\n",
      "... and 187 more\n"
     ]
    },
    {
     "data": {
      "text/plain": [
       "[('https://archive.org/download/the-history-of-rome/20070728%20-%20001-%20In%20the%20Beginning.mp3',\n",
       "  '20070728 - 001- In the Beginning.mp3'),\n",
       " ('https://archive.org/download/the-history-of-rome/20100225%20-%20002-%20Youthful%20Indiscretions.mp3',\n",
       "  '20100225 - 002- Youthful Indiscretions.mp3'),\n",
       " ('https://archive.org/download/the-history-of-rome/20100225%20-%20003a-%20The%20Seven%20Kings%20of%20Rome.mp3',\n",
       "  '20100225 - 003a- The Seven Kings of Rome.mp3'),\n",
       " ('https://archive.org/download/the-history-of-rome/20100225%20-%20003b-%20The%20Seven%20Kings%20of%20Rome.mp3',\n",
       "  '20100225 - 003b- The Seven Kings of Rome.mp3'),\n",
       " ('https://archive.org/download/the-history-of-rome/20100225%20-%20004-%20The%20Public%20Thing.mp3',\n",
       "  '20100225 - 004- The Public Thing.mp3'),\n",
       " ('https://archive.org/download/the-history-of-rome/20100225%20-%20005-%20Trials%20and%20Tribunlations.mp3',\n",
       "  '20100225 - 005- Trials and Tribunlations.mp3'),\n",
       " ('https://archive.org/download/the-history-of-rome/20100225%20-%20006-%20The%20Twelve%20Tables.mp3',\n",
       "  '20100225 - 006- The Twelve Tables.mp3'),\n",
       " ('https://archive.org/download/the-history-of-rome/20100225%20-%20007-%20The%20Roman%20Washington.mp3',\n",
       "  '20100225 - 007- The Roman Washington.mp3'),\n",
       " ('https://archive.org/download/the-history-of-rome/20100225%20-%20008-%20Decades%20of%20Gloom.mp3',\n",
       "  '20100225 - 008- Decades of Gloom.mp3'),\n",
       " ('https://archive.org/download/the-history-of-rome/20100225%20-%20009-%20A%20Trojan%20War.mp3',\n",
       "  '20100225 - 009- A Trojan War.mp3'),\n",
       " ('https://archive.org/download/the-history-of-rome/20100225%20-%20010_%20Barbarians%20at%20the%20Gates.mp3',\n",
       "  '20100225 - 010_ Barbarians at the Gates.mp3'),\n",
       " ('https://archive.org/download/the-history-of-rome/20100225%20-%20011-%20The%20Morning%20After.mp3',\n",
       "  '20100225 - 011- The Morning After.mp3'),\n",
       " ('https://archive.org/download/the-history-of-rome/20100225%20-%20012-%20The%20First%20Samnite%20War.mp3',\n",
       "  '20100225 - 012- The First Samnite War.mp3'),\n",
       " ('https://archive.org/download/the-history-of-rome/20100225%20-%20013-%20The%20Latin%20War.mp3',\n",
       "  '20100225 - 013- The Latin War.mp3'),\n",
       " ('https://archive.org/download/the-history-of-rome/20100225%20-%20014a-%20A%20Phalanx%20With%20Joints.mp3',\n",
       "  '20100225 - 014a- A Phalanx With Joints.mp3'),\n",
       " ('https://archive.org/download/the-history-of-rome/20100225%20-%20014b-%20A%20Phalanx%20With%20Joints.mp3',\n",
       "  '20100225 - 014b- A Phalanx With Joints.mp3'),\n",
       " ('https://archive.org/download/the-history-of-rome/20100225%20-%20015a-%20The%20Second%20Samnite%20War.mp3',\n",
       "  '20100225 - 015a- The Second Samnite War.mp3'),\n",
       " ('https://archive.org/download/the-history-of-rome/20100227%20-%20015b-%20The%20Second%20Samnite%20War.mp3',\n",
       "  '20100227 - 015b- The Second Samnite War.mp3'),\n",
       " ('https://archive.org/download/the-history-of-rome/20100227%20-%20016-%20The%20Third%20Samnite%20War.mp3',\n",
       "  '20100227 - 016- The Third Samnite War.mp3'),\n",
       " ('https://archive.org/download/the-history-of-rome/20100228%20-%20017-%20Pyrrhic%20Victories.mp3',\n",
       "  '20100228 - 017- Pyrrhic Victories.mp3'),\n",
       " ('https://archive.org/download/the-history-of-rome/20100228%20-%20018-%20A%20History%20of%20Rome%20Christmas.mp3',\n",
       "  '20100228 - 018- A History of Rome Christmas.mp3'),\n",
       " ('https://archive.org/download/the-history-of-rome/20100228%20-%20019-%20Prelude%20to%20the%20First%20Punic%20War.mp3',\n",
       "  '20100228 - 019- Prelude to the First Punic War.mp3'),\n",
       " ('https://archive.org/download/the-history-of-rome/20100228%20-%20020a-%20The%20First%20Punic%20War.mp3',\n",
       "  '20100228 - 020a- The First Punic War.mp3'),\n",
       " ('https://archive.org/download/the-history-of-rome/20100228%20-%20020b-%20The%20First%20Punic%20War.mp3',\n",
       "  '20100228 - 020b- The First Punic War.mp3'),\n",
       " ('https://archive.org/download/the-history-of-rome/20100228%20-%20021-%20Interbellum.mp3',\n",
       "  '20100228 - 021- Interbellum.mp3'),\n",
       " ('https://archive.org/download/the-history-of-rome/20100228%20-%20022-%20Prelude%20to%20the%20Second%20Punic%20War.mp3',\n",
       "  '20100228 - 022- Prelude to the Second Punic War.mp3'),\n",
       " ('https://archive.org/download/the-history-of-rome/20100228%20-%20023a-%20The%20War%20With%20Hannibal.mp3',\n",
       "  '20100228 - 023a- The War With Hannibal.mp3'),\n",
       " ('https://archive.org/download/the-history-of-rome/20100228%20-%20023b-%20The%20War%20With%20Hannibal.mp3',\n",
       "  '20100228 - 023b- The War With Hannibal.mp3'),\n",
       " ('https://archive.org/download/the-history-of-rome/20100228%20-%20023c-%20The%20War%20With%20Hannibal.mp3',\n",
       "  '20100228 - 023c- The War With Hannibal.mp3'),\n",
       " ('https://archive.org/download/the-history-of-rome/20100228%20-%20023d-%20The%20War%20With%20Hannibal.mp3',\n",
       "  '20100228 - 023d- The War With Hannibal.mp3'),\n",
       " ('https://archive.org/download/the-history-of-rome/20100228%20-%20023e-%20The%20War%20With%20Hannibal.mp3',\n",
       "  '20100228 - 023e- The War With Hannibal.mp3'),\n",
       " ('https://archive.org/download/the-history-of-rome/20100228%20-%20024-%20The%20Second%20Macedonian%20War.mp3',\n",
       "  '20100228 - 024- The Second Macedonian War.mp3'),\n",
       " ('https://archive.org/download/the-history-of-rome/20100228%20-%20025-%20The%20Syrian%20War.mp3',\n",
       "  '20100228 - 025- The Syrian War.mp3'),\n",
       " ('https://archive.org/download/the-history-of-rome/20100228%20-%20026-%20The%20Third%20Macedonian%20War.mp3',\n",
       "  '20100228 - 026- The Third Macedonian War.mp3'),\n",
       " ('https://archive.org/download/the-history-of-rome/20100228%20-%20027-%20Mopping%20Up.mp3',\n",
       "  '20100228 - 027- Mopping Up.mp3'),\n",
       " ('https://archive.org/download/the-history-of-rome/20100228%20-%20028-%20Taking%20Stock.mp3',\n",
       "  '20100228 - 028- Taking Stock.mp3'),\n",
       " ('https://archive.org/download/the-history-of-rome/20100228%20-%20029-%20Tiberius%20Gracchus.mp3',\n",
       "  '20100228 - 029- Tiberius Gracchus.mp3'),\n",
       " ('https://archive.org/download/the-history-of-rome/20100228%20-%20030-%20Gaius%20Gracchus.mp3',\n",
       "  '20100228 - 030- Gaius Gracchus.mp3'),\n",
       " ('https://archive.org/download/the-history-of-rome/20100228%20-%20031a-%20Marius.mp3',\n",
       "  '20100228 - 031a- Marius.mp3'),\n",
       " ('https://archive.org/download/the-history-of-rome/20100228%20-%20031b-%20Marius.mp3',\n",
       "  '20100228 - 031b- Marius.mp3'),\n",
       " ('https://archive.org/download/the-history-of-rome/20100228%20-%20032-%20The%20Social%20War.mp3',\n",
       "  '20100228 - 032- The Social War.mp3'),\n",
       " ('https://archive.org/download/the-history-of-rome/20100228%20-%20033-%20Marius%20and%20Sulla.mp3',\n",
       "  '20100228 - 033- Marius and Sulla.mp3'),\n",
       " ('https://archive.org/download/the-history-of-rome/20100228%20-%20034-%20No%20Greater%20Friend%2C%20No%20Worse%20Enemy.mp3',\n",
       "  '20100228 - 034- No Greater Friend, No Worse Enemy.mp3'),\n",
       " ('https://archive.org/download/the-history-of-rome/20100228%20-%20035-%20Crassus%20and%20Pompey.mp3',\n",
       "  '20100228 - 035- Crassus and Pompey.mp3'),\n",
       " ('https://archive.org/download/the-history-of-rome/20100228%20-%20036-%20I%20Am%20Spartacus%21.mp3',\n",
       "  '20100228 - 036- I Am Spartacus!.mp3'),\n",
       " ('https://archive.org/download/the-history-of-rome/20100228%20-%20037-%20Go%20East%20Young%20Man.mp3',\n",
       "  '20100228 - 037- Go East Young Man.mp3'),\n",
       " ('https://archive.org/download/the-history-of-rome/20100228%20-%20038-%20The%20Catiline%20Conspiracy.mp3',\n",
       "  '20100228 - 038- The Catiline Conspiracy.mp3'),\n",
       " ('https://archive.org/download/the-history-of-rome/20100228%20-%20039-%20The%20Young%20Julius%20Caesar%20Chronicles.mp3',\n",
       "  '20100228 - 039- The Young Julius Caesar Chronicles.mp3'),\n",
       " ('https://archive.org/download/the-history-of-rome/20100228%20-%20040-%20In%20the%20Consulship%20of%20Julius%20and%20Caesar.mp3',\n",
       "  '20100228 - 040- In the Consulship of Julius and Caesar.mp3'),\n",
       " ('https://archive.org/download/the-history-of-rome/20100228%20-%20041a-%20The%20Gallic%20Wars.mp3',\n",
       "  '20100228 - 041a- The Gallic Wars.mp3'),\n",
       " ('https://archive.org/download/the-history-of-rome/20100228%20-%20041b-%20The%20Gallic%20Wars.mp3',\n",
       "  '20100228 - 041b- The Gallic Wars.mp3'),\n",
       " ('https://archive.org/download/the-history-of-rome/20100228%20-%20042-%20Meanwhile%2C%20Back%20in%20Rome.mp3',\n",
       "  '20100228 - 042- Meanwhile, Back in Rome.mp3'),\n",
       " ('https://archive.org/download/the-history-of-rome/20100228%20-%20043-%20Insert%20Well%20Known%20Idiom%20Here.mp3',\n",
       "  '20100228 - 043- Insert Well Known Idiom Here.mp3'),\n",
       " ('https://archive.org/download/the-history-of-rome/20100228%20-%20044-%20Caesar%20Triumphant.mp3',\n",
       "  '20100228 - 044- Caesar Triumphant.mp3'),\n",
       " ('https://archive.org/download/the-history-of-rome/20100228%20-%20045-%20The%20End%20of%20the%20War.mp3',\n",
       "  '20100228 - 045- The End of the War.mp3'),\n",
       " ('https://archive.org/download/the-history-of-rome/20100228%20-%20046-%20Sic%20Semper%20Tyrannis.mp3',\n",
       "  '20100228 - 046- Sic Semper Tyrannis.mp3'),\n",
       " ('https://archive.org/download/the-history-of-rome/20100228%20-%20047-%20Octavius-Octavian.mp3',\n",
       "  '20100228 - 047- Octavius-Octavian.mp3'),\n",
       " ('https://archive.org/download/the-history-of-rome/20100228%20-%20048-%20The%20Second%20Triumvirate.mp3',\n",
       "  '20100228 - 048- The Second Triumvirate.mp3'),\n",
       " ('https://archive.org/download/the-history-of-rome/20100228%20-%20049-%20Apollo%20and%20Dionysus.mp3',\n",
       "  '20100228 - 049- Apollo and Dionysus.mp3'),\n",
       " ('https://archive.org/download/the-history-of-rome/20100228%20-%20050-%20The%20Donations%20of%20Alexandria.mp3',\n",
       "  '20100228 - 050- The Donations of Alexandria.mp3'),\n",
       " ('https://archive.org/download/the-history-of-rome/20100228%20-%20051-%20Actium.mp3',\n",
       "  '20100228 - 051- Actium.mp3'),\n",
       " ('https://archive.org/download/the-history-of-rome/20100228%20-%20052-%20Caesar%20Augustus.mp3',\n",
       "  '20100228 - 052- Caesar Augustus.mp3'),\n",
       " ('https://archive.org/download/the-history-of-rome/20100228%20-%20053-%20Reigning%20Supreme.mp3',\n",
       "  '20100228 - 053- Reigning Supreme.mp3'),\n",
       " ('https://archive.org/download/the-history-of-rome/20100228%20-%20054-%20All%20in%20the%20Family.mp3',\n",
       "  '20100228 - 054- All in the Family.mp3'),\n",
       " ('https://archive.org/download/the-history-of-rome/20100228%20-%20055-%20Teutoburg%20Nightmares.mp3',\n",
       "  '20100228 - 055- Teutoburg Nightmares.mp3'),\n",
       " ('https://archive.org/download/the-history-of-rome/20100228%20-%20056-%20The%20King%20is%20Dead%2C%20Long%20Live%20the%20King.mp3',\n",
       "  '20100228 - 056- The King is Dead, Long Live the King.mp3'),\n",
       " ('https://archive.org/download/the-history-of-rome/20100228%20-%20057-%20Germanicus.mp3',\n",
       "  '20100228 - 057- Germanicus.mp3'),\n",
       " ('https://archive.org/download/the-history-of-rome/20100301%20-%20058-%20Partner%20of%20my%20Labors.mp3',\n",
       "  '20100301 - 058- Partner of my Labors.mp3'),\n",
       " ('https://archive.org/download/the-history-of-rome/20100301%20-%20059-%20To%20the%20Tiber%20with%20Tiberius.mp3',\n",
       "  '20100301 - 059- To the Tiber with Tiberius.mp3'),\n",
       " ('https://archive.org/download/the-history-of-rome/20100301%20-%20060-%20No%20Better%20Slave%2C%20No%20Worse%20Master.mp3',\n",
       "  '20100301 - 060- No Better Slave, No Worse Master.mp3'),\n",
       " ('https://archive.org/download/the-history-of-rome/20100301%20-%20061-%20What%2C%20me%20Claudius_.mp3',\n",
       "  '20100301 - 061- What, me Claudius_.mp3'),\n",
       " ('https://archive.org/download/the-history-of-rome/20100301%20-%20062-%20Take%20My%20Wife...Please.mp3',\n",
       "  '20100301 - 062- Take My Wife...Please.mp3'),\n",
       " ('https://archive.org/download/the-history-of-rome/20100301%20-%20063-%20A%20Farewell%20to%20Claudius.mp3',\n",
       "  '20100301 - 063- A Farewell to Claudius.mp3'),\n",
       " ('https://archive.org/download/the-history-of-rome/20100301%20-%20064-%20Smite%20My%20Womb.mp3',\n",
       "  '20100301 - 064- Smite My Womb.mp3'),\n",
       " ('https://archive.org/download/the-history-of-rome/20100301%20-%20065-%20Burn%20It%20To%20The%20Ground.mp3',\n",
       "  '20100301 - 065- Burn It To The Ground.mp3'),\n",
       " ('https://archive.org/download/the-history-of-rome/20100301%20-%20066-%20666.mp3',\n",
       "  '20100301 - 066- 666.mp3'),\n",
       " ('https://archive.org/download/the-history-of-rome/20100301%20-%20067-%20What%20an%20Artist%20the%20World%20is%20Losing.mp3',\n",
       "  '20100301 - 067- What an Artist the World is Losing.mp3'),\n",
       " ('https://archive.org/download/the-history-of-rome/20100301%20-%20068-%20Three%20Emperors.mp3',\n",
       "  '20100301 - 068- Three Emperors.mp3'),\n",
       " ('https://archive.org/download/the-history-of-rome/20100301%20-%20069-%20As%20History%20of%20Rome%20Wedding.mp3',\n",
       "  '20100301 - 069- As History of Rome Wedding.mp3'),\n",
       " ('https://archive.org/download/the-history-of-rome/20100301%20-%20070-%20Galba%20and%20Otho_%20The%20History%20of%20Rome.mp3',\n",
       "  '20100301 - 070- Galba and Otho_ The History of Rome.mp3'),\n",
       " ('https://archive.org/download/the-history-of-rome/20100301%20-%20071-%20Otho%20and%20Vitellius.mp3',\n",
       "  '20100301 - 071- Otho and Vitellius.mp3'),\n",
       " ('https://archive.org/download/the-history-of-rome/20100301%20-%20072-%20Vitellius%20and%20Vespasian.mp3',\n",
       "  '20100301 - 072- Vitellius and Vespasian.mp3'),\n",
       " ('https://archive.org/download/the-history-of-rome/20100301%20-%20073-%20The%20Only%20Man%20Who%20Improved.mp3',\n",
       "  '20100301 - 073- The Only Man Who Improved.mp3'),\n",
       " ('https://archive.org/download/the-history-of-rome/20100301%20-%20074-%20Friends%20I%20Have%20Wasted%20a%20Day.mp3',\n",
       "  '20100301 - 074- Friends I Have Wasted a Day.mp3'),\n",
       " ('https://archive.org/download/the-history-of-rome/20100301%20-%20075-%20The%20Forgotten%20Son.mp3',\n",
       "  '20100301 - 075- The Forgotten Son.mp3'),\n",
       " ('https://archive.org/download/the-history-of-rome/20100301%20-%20076-%20Mock%20Triumphs.mp3',\n",
       "  '20100301 - 076- Mock Triumphs.mp3'),\n",
       " ('https://archive.org/download/the-history-of-rome/20100301%20-%20077-%20What%20Time%20is%20It_.mp3',\n",
       "  '20100301 - 077- What Time is It_.mp3'),\n",
       " ('https://archive.org/download/the-history-of-rome/20100301%20-%20078-%20Imperial%20Stop%20Gap.mp3',\n",
       "  '20100301 - 078- Imperial Stop Gap.mp3'),\n",
       " ('https://archive.org/download/the-history-of-rome/20100301%20-%20079-%20The%20Dacian%20Wars.mp3',\n",
       "  '20100301 - 079- The Dacian Wars.mp3'),\n",
       " ('https://archive.org/download/the-history-of-rome/20100301%20-%20080-%20Optimus%20Trajan.mp3',\n",
       "  '20100301 - 080- Optimus Trajan.mp3'),\n",
       " ('https://archive.org/download/the-history-of-rome/20100301%20-%20081-%20The%20Greekling.mp3',\n",
       "  '20100301 - 081- The Greekling.mp3'),\n",
       " ('https://archive.org/download/the-history-of-rome/20100301%20-%20082-%20Hadrian%27s%20Walls.mp3',\n",
       "  \"20100301 - 082- Hadrian's Walls.mp3\"),\n",
       " ('https://archive.org/download/the-history-of-rome/20100301%20-%20083-%20May%20His%20Bones%20Be%20Crushed.mp3',\n",
       "  '20100301 - 083- May His Bones Be Crushed.mp3'),\n",
       " ('https://archive.org/download/the-history-of-rome/20100301%20-%20084-%20Longing%20For%20Death.mp3',\n",
       "  '20100301 - 084- Longing For Death.mp3'),\n",
       " ('https://archive.org/download/the-history-of-rome/20100301%20-%20085-%20Antoninus%20the%20Dutiful.mp3',\n",
       "  '20100301 - 085- Antoninus the Dutiful.mp3'),\n",
       " ('https://archive.org/download/the-history-of-rome/20100308%20-%20086-%20Wealth%20and%20Class.mp3',\n",
       "  '20100308 - 086- Wealth and Class.mp3'),\n",
       " ('https://archive.org/download/the-history-of-rome/20100315%20-%20087-%20Thinking%20and%20Feeling.mp3',\n",
       "  '20100315 - 087- Thinking and Feeling.mp3'),\n",
       " ('https://archive.org/download/the-history-of-rome/20100322%20-%20088-%20A%20Day%20in%20the%20Life.mp3',\n",
       "  '20100322 - 088- A Day in the Life.mp3'),\n",
       " ('https://archive.org/download/the-history-of-rome/20100405%20-%20089-%20Provincial%20Matters.mp3',\n",
       "  '20100405 - 089- Provincial Matters.mp3'),\n",
       " ('https://archive.org/download/the-history-of-rome/20100412%20-%20090-%20The%20Hundredth%20Episode.mp3',\n",
       "  '20100412 - 090- The Hundredth Episode.mp3'),\n",
       " ('https://archive.org/download/the-history-of-rome/20100419%20-%20091-%20Marcus%20and%20Lucius%20and%20the%20Parthians.mp3',\n",
       "  '20100419 - 091- Marcus and Lucius and the Parthians.mp3'),\n",
       " ('https://archive.org/download/the-history-of-rome/20100426%20-%20092-%20The%20Parthian%20War.mp3',\n",
       "  '20100426 - 092- The Parthian War.mp3'),\n",
       " ('https://archive.org/download/the-history-of-rome/20100510%20-%20093-%20The%20Marcomannic%20Wars.mp3',\n",
       "  '20100510 - 093- The Marcomannic Wars.mp3'),\n",
       " ('https://archive.org/download/the-history-of-rome/20100517%20-%20094-%20Revolt%20and%20Meditations.mp3',\n",
       "  '20100517 - 094- Revolt and Meditations.mp3'),\n",
       " ('https://archive.org/download/the-history-of-rome/20100524%20-%20095-%20The%20Beginning%20of%20the%20End.mp3',\n",
       "  '20100524 - 095- The Beginning of the End.mp3'),\n",
       " ('https://archive.org/download/the-history-of-rome/20100531%20-%20096-%20The%20Most%20Aptly%20Named%20Emperor.mp3',\n",
       "  '20100531 - 096- The Most Aptly Named Emperor.mp3'),\n",
       " ('https://archive.org/download/the-history-of-rome/20100607%20-%20097-%20The%20Fall%20of%20Hercules.mp3',\n",
       "  '20100607 - 097- The Fall of Hercules.mp3'),\n",
       " ('https://archive.org/download/the-history-of-rome/20100614%20-%20098-%20Purchasing%20Power.mp3',\n",
       "  '20100614 - 098- Purchasing Power.mp3'),\n",
       " ('https://archive.org/download/the-history-of-rome/20100621%20-%20099-%20What%20Evil%20Have%20I%20Done_.mp3',\n",
       "  '20100621 - 099- What Evil Have I Done_.mp3'),\n",
       " ('https://archive.org/download/the-history-of-rome/20100627%20-%20100-%20Black%20and%20White%20and%20Severus%20All%20Over.mp3',\n",
       "  '20100627 - 100- Black and White and Severus All Over.mp3'),\n",
       " ('https://archive.org/download/the-history-of-rome/20100719%20-%20101-%20And%20All%20Was%20of%20Little%20Value.mp3',\n",
       "  '20100719 - 101- And All Was of Little Value.mp3'),\n",
       " ('https://archive.org/download/the-history-of-rome/20100726%20-%20102-%20The%20Common%20Enemy%20of%20Mankind.mp3',\n",
       "  '20100726 - 102- The Common Enemy of Mankind.mp3'),\n",
       " ('https://archive.org/download/the-history-of-rome/20100802%20-%20103-%20The%20Equestrian.mp3',\n",
       "  '20100802 - 103- The Equestrian.mp3'),\n",
       " ('https://archive.org/download/the-history-of-rome/20100809%20-%20104-%20Here%20Comes%20the%20Sun.mp3',\n",
       "  '20100809 - 104- Here Comes the Sun.mp3'),\n",
       " ('https://archive.org/download/the-history-of-rome/20100816%20-%20105-%20The%20Last%20Princeps.mp3',\n",
       "  '20100816 - 105- The Last Princeps.mp3'),\n",
       " ('https://archive.org/download/the-history-of-rome/20100823%20-%20106-%20Barbarian%20at%20the%20Gate.mp3',\n",
       "  '20100823 - 106- Barbarian at the Gate.mp3'),\n",
       " ('https://archive.org/download/the-history-of-rome/20100830%20-%20107-%20The%20Year%20of%20the%20Six%20Emperors.mp3',\n",
       "  '20100830 - 107- The Year of the Six Emperors.mp3'),\n",
       " ('https://archive.org/download/the-history-of-rome/20100913%20-%20108-%20Gordian%27s%20Knot.mp3',\n",
       "  \"20100913 - 108- Gordian's Knot.mp3\"),\n",
       " ('https://archive.org/download/the-history-of-rome/20100920%20-%20109-%20The%20New%20Millenium.mp3',\n",
       "  '20100920 - 109- The New Millenium.mp3'),\n",
       " ('https://archive.org/download/the-history-of-rome/20100927%20-%20110-%20A%20Gothic%20Horror.mp3',\n",
       "  '20100927 - 110- A Gothic Horror.mp3'),\n",
       " ('https://archive.org/download/the-history-of-rome/20101004%20-%20111-%20Phase%20One%20Complete.mp3',\n",
       "  '20101004 - 111- Phase One Complete.mp3'),\n",
       " ('https://archive.org/download/the-history-of-rome/20101018%20-%20112-%20Captured%20Alive.mp3',\n",
       "  '20101018 - 112- Captured Alive.mp3'),\n",
       " ('https://archive.org/download/the-history-of-rome/20101024%20-%20113-%20Three%20Empires.mp3',\n",
       "  '20101024 - 113- Three Empires.mp3'),\n",
       " ('https://archive.org/download/the-history-of-rome/20101101%20-%20114-%20The%20Nadir%20of%20Our%20Fortunes.mp3',\n",
       "  '20101101 - 114- The Nadir of Our Fortunes.mp3'),\n",
       " ('https://archive.org/download/the-history-of-rome/20101108%20-%20115-%20Phase%20Two%20Complete.mp3',\n",
       "  '20101108 - 115- Phase Two Complete.mp3'),\n",
       " ('https://archive.org/download/the-history-of-rome/20101122%20-%20116-%20Here%20Come%20the%20Illyrians.mp3',\n",
       "  '20101122 - 116- Here Come the Illyrians.mp3'),\n",
       " ('https://archive.org/download/the-history-of-rome/20101129%20-%20117-%20Aurelian%27s%20Walls.mp3',\n",
       "  \"20101129 - 117- Aurelian's Walls.mp3\"),\n",
       " ('https://archive.org/download/the-history-of-rome/20101206%20-%20118-%20The%20Palmyrene%20Wars.mp3',\n",
       "  '20101206 - 118- The Palmyrene Wars.mp3'),\n",
       " ('https://archive.org/download/the-history-of-rome/20101213%20-%20119-%20Restitutor%20Orbis.mp3',\n",
       "  '20101213 - 119- Restitutor Orbis.mp3'),\n",
       " ('https://archive.org/download/the-history-of-rome/20101220%20-%20120-%20Interregnum.mp3',\n",
       "  '20101220 - 120- Interregnum.mp3'),\n",
       " ('https://archive.org/download/the-history-of-rome/20110110%20-%20121-%20Phase%20Three%20Complete.mp3',\n",
       "  '20110110 - 121- Phase Three Complete.mp3'),\n",
       " ('https://archive.org/download/the-history-of-rome/20110116%20-%20122-%20Jupiter%20and%20Hercules.mp3',\n",
       "  '20110116 - 122- Jupiter and Hercules.mp3'),\n",
       " ('https://archive.org/download/the-history-of-rome/20110124%20-%20123-%20The%20Tertrarchy.mp3',\n",
       "  '20110124 - 123- The Tertrarchy.mp3'),\n",
       " ('https://archive.org/download/the-history-of-rome/20110131%20-%20124-%20The%20Tetrarchs%20at%20War.mp3',\n",
       "  '20110131 - 124- The Tetrarchs at War.mp3'),\n",
       " ('https://archive.org/download/the-history-of-rome/20110207%20-%20125-%20The%20Best%20Defence%20is%20a%20Good%20Defence.mp3',\n",
       "  '20110207 - 125- The Best Defence is a Good Defence.mp3'),\n",
       " ('https://archive.org/download/the-history-of-rome/20110214%20-%20126-%20All%20The%20King%27s%20Men.mp3',\n",
       "  \"20110214 - 126- All The King's Men.mp3\"),\n",
       " ('https://archive.org/download/the-history-of-rome/20110221%20-%20127-%20Commanding%20The%20Economy.mp3',\n",
       "  '20110221 - 127- Commanding The Economy.mp3'),\n",
       " ('https://archive.org/download/the-history-of-rome/20110228%20-%20128-%20The%20Great%20Persecution.mp3',\n",
       "  '20110228 - 128- The Great Persecution.mp3'),\n",
       " ('https://archive.org/download/the-history-of-rome/20110307%20-%20129-%20Abdication.mp3',\n",
       "  '20110307 - 129- Abdication.mp3'),\n",
       " ('https://archive.org/download/the-history-of-rome/20110314%20-%20130-%20Lost%20in%20Transition.mp3',\n",
       "  '20110314 - 130- Lost in Transition.mp3'),\n",
       " ('https://archive.org/download/the-history-of-rome/20110328%20-%20131-%20The%20New%20Game%20in%20Town.mp3',\n",
       "  '20110328 - 131- The New Game in Town.mp3'),\n",
       " ('https://archive.org/download/the-history-of-rome/20110404%20-%20132-%20In%20This%20Sign.mp3',\n",
       "  '20110404 - 132- In This Sign.mp3'),\n",
       " ('https://archive.org/download/the-history-of-rome/20110411%20-%20133-%20The%20Milvian%20Bridge.mp3',\n",
       "  '20110411 - 133- The Milvian Bridge.mp3'),\n",
       " ('https://archive.org/download/the-history-of-rome/20110418%20-%20134-%20And%20Then%20There%20Were%20Two.mp3',\n",
       "  '20110418 - 134- And Then There Were Two.mp3'),\n",
       " ('https://archive.org/download/the-history-of-rome/20110425%20-%20135-%20Brothers%20in%20Name%20Only.mp3',\n",
       "  '20110425 - 135- Brothers in Name Only.mp3'),\n",
       " ('https://archive.org/download/the-history-of-rome/20110501%20-%20136-%20Let%20This%20Be%20Our%20Final%20Battle.mp3',\n",
       "  '20110501 - 136- Let This Be Our Final Battle.mp3'),\n",
       " ('https://archive.org/download/the-history-of-rome/20110515%20-%20137-%20The%20Christian%20Emperor.mp3',\n",
       "  '20110515 - 137- The Christian Emperor.mp3'),\n",
       " ('https://archive.org/download/the-history-of-rome/20110530%20-%20138-%20The%20New%20Rome.mp3',\n",
       "  '20110530 - 138- The New Rome.mp3'),\n",
       " ('https://archive.org/download/the-history-of-rome/20110613%20-%20139-%20Wash%20Away%20Your%20Sins.mp3',\n",
       "  '20110613 - 139- Wash Away Your Sins.mp3'),\n",
       " ('https://archive.org/download/the-history-of-rome/20110620%20-%20140-%20My%20Three%20Sons.mp3',\n",
       "  '20110620 - 140- My Three Sons.mp3'),\n",
       " ('https://archive.org/download/the-history-of-rome/20110627%20-%20141-%20Blood%20and%20Water.mp3',\n",
       "  '20110627 - 141- Blood and Water.mp3'),\n",
       " ('https://archive.org/download/the-history-of-rome/20110704%20-%20142-%20You%27ve%20Earned%20It.mp3',\n",
       "  \"20110704 - 142- You've Earned It.mp3\"),\n",
       " ('https://archive.org/download/the-history-of-rome/20110710%20-%20143-%20Julian%20the%20Pre-Apostate.mp3',\n",
       "  '20110710 - 143- Julian the Pre-Apostate.mp3'),\n",
       " ('https://archive.org/download/the-history-of-rome/20110725%20-%20144-%20The%20Road%20to%20Constantinople%20.mp3',\n",
       "  '20110725 - 144- The Road to Constantinople .mp3'),\n",
       " ('https://archive.org/download/the-history-of-rome/20110731%20-%20145-%20Julian%20the%20Apostate.mp3',\n",
       "  '20110731 - 145- Julian the Apostate.mp3'),\n",
       " ('https://archive.org/download/the-history-of-rome/20110808%20-%20146-%20The%20Spear%20of%20Destiny.mp3',\n",
       "  '20110808 - 146- The Spear of Destiny.mp3'),\n",
       " ('https://archive.org/download/the-history-of-rome/20110815%20-%20147-%20Capitulation.mp3',\n",
       "  '20110815 - 147- Capitulation.mp3'),\n",
       " ('https://archive.org/download/the-history-of-rome/20110822%20-%20148-%20The%20Cousin%27s%20Cousin.mp3',\n",
       "  \"20110822 - 148- The Cousin's Cousin.mp3\"),\n",
       " ('https://archive.org/download/the-history-of-rome/20110829%20-%20149-%20The%20Great%20Conspiracy.mp3',\n",
       "  '20110829 - 149- The Great Conspiracy.mp3'),\n",
       " ('https://archive.org/download/the-history-of-rome/20110904%20-%20150-%20The%20Perils%20of%20Mismanagement.mp3',\n",
       "  '20110904 - 150- The Perils of Mismanagement.mp3'),\n",
       " ('https://archive.org/download/the-history-of-rome/20110911%20-%20151-%20Bursting%20a%20Blood%20Vessel.mp3',\n",
       "  '20110911 - 151- Bursting a Blood Vessel.mp3'),\n",
       " ('https://archive.org/download/the-history-of-rome/20110925%20-%20152-%20The%20Storm%20Before%20the%20Storm.mp3',\n",
       "  '20110925 - 152- The Storm Before the Storm.mp3'),\n",
       " ('https://archive.org/download/the-history-of-rome/20111002%20-%20153-%20Adrianople.mp3',\n",
       "  '20111002 - 153- Adrianople.mp3'),\n",
       " ('https://archive.org/download/the-history-of-rome/20111010%20-%20154-%20The%20Gothic%20War.mp3',\n",
       "  '20111010 - 154- The Gothic War.mp3'),\n",
       " ('https://archive.org/download/the-history-of-rome/20111016%20-%20155-%20The%20New%20Bishop%20of%20Milan.mp3',\n",
       "  '20111016 - 155- The New Bishop of Milan.mp3'),\n",
       " ('https://archive.org/download/the-history-of-rome/20111024%20-%20156-%20Jockeying%20for%20Position.mp3',\n",
       "  '20111024 - 156- Jockeying for Position.mp3'),\n",
       " ('https://archive.org/download/the-history-of-rome/20111031%20-%20%20157-%20Only%20the%20Penitent%20Man%20Shall%20Pass.mp3',\n",
       "  '20111031 -  157- Only the Penitent Man Shall Pass.mp3'),\n",
       " ('https://archive.org/download/the-history-of-rome/20111114%20-%20158-%20An%20Imperial%20Suicide.mp3',\n",
       "  '20111114 - 158- An Imperial Suicide.mp3'),\n",
       " ('https://archive.org/download/the-history-of-rome/20111121%20-%20159-%20The%20Divine%20Winds.mp3',\n",
       "  '20111121 - 159- The Divine Winds.mp3'),\n",
       " ('https://archive.org/download/the-history-of-rome/20111128%20-%20160-%20East%20vs.%20West.mp3',\n",
       "  '20111128 - 160- East vs. West.mp3'),\n",
       " ('https://archive.org/download/the-history-of-rome/20111205%20-%20161-%20The%20Swamps%20of%20Ravenna.mp3',\n",
       "  '20111205 - 161- The Swamps of Ravenna.mp3'),\n",
       " ('https://archive.org/download/the-history-of-rome/20111212%20-%20162-%20Opening%20the%20Floodgates.mp3',\n",
       "  '20111212 - 162- Opening the Floodgates.mp3'),\n",
       " ('https://archive.org/download/the-history-of-rome/20111218%20-%20163-%20Theodosius%27s%20Walls.mp3',\n",
       "  \"20111218 - 163- Theodosius's Walls.mp3\"),\n",
       " ('https://archive.org/download/the-history-of-rome/20120109%20-%20164-%20The%20Sack%20of%20Rome.mp3',\n",
       "  '20120109 - 164- The Sack of Rome.mp3'),\n",
       " ('https://archive.org/download/the-history-of-rome/20120115%20-%20165-%20Reviving%20the%20Roman%20Name.mp3',\n",
       "  '20120115 - 165- Reviving the Roman Name.mp3'),\n",
       " ('https://archive.org/download/the-history-of-rome/20120122%20-%20166-%20As%20Long%20As%20She%27s%20Nice%20To%20Look%20At.mp3',\n",
       "  \"20120122 - 166- As Long As She's Nice To Look At.mp3\"),\n",
       " ('https://archive.org/download/the-history-of-rome/20120129%20-%20167-%20Exploiting%20the%20Opportunity.mp3',\n",
       "  '20120129 - 167- Exploiting the Opportunity.mp3'),\n",
       " ('https://archive.org/download/the-history-of-rome/20120205%20-%20168-%20The%20Rise%20of%20Aetius.mp3',\n",
       "  '20120205 - 168- The Rise of Aetius.mp3'),\n",
       " ('https://archive.org/download/the-history-of-rome/20120212%20-%20169-%20Huns%20and%20Vandals%20and%20Goths%2C%20Oh%20My.mp3',\n",
       "  '20120212 - 169- Huns and Vandals and Goths, Oh My.mp3'),\n",
       " ('https://archive.org/download/the-history-of-rome/20120219%20-%20170-%20Atilla%20Cometh.mp3',\n",
       "  '20120219 - 170- Atilla Cometh.mp3'),\n",
       " ('https://archive.org/download/the-history-of-rome/20120311%20-%20171-%20The%20Gathering%20Storm.mp3',\n",
       "  '20120311 - 171- The Gathering Storm.mp3'),\n",
       " ('https://archive.org/download/the-history-of-rome/20120319%20-%20172-%20Showdown.mp3',\n",
       "  '20120319 - 172- Showdown.mp3'),\n",
       " ('https://archive.org/download/the-history-of-rome/20120325%20-%20173-%20The%20Broken%20Bow.mp3',\n",
       "  '20120325 - 173- The Broken Bow.mp3'),\n",
       " ('https://archive.org/download/the-history-of-rome/20120402%20-%20174-%20The%20Sack%20of%20Rome%20Part%20II.mp3',\n",
       "  '20120402 - 174- The Sack of Rome Part II.mp3'),\n",
       " ('https://archive.org/download/the-history-of-rome/20120409%20-%20175-%20Trying%20to%20Take%20It%20All%20Back.mp3',\n",
       "  '20120409 - 175- Trying to Take It All Back.mp3'),\n",
       " ('https://archive.org/download/the-history-of-rome/20120416%20-%20176-%20The%20Quote%20Unquote%20Emperor.mp3',\n",
       "  '20120416 - 176- The Quote Unquote Emperor.mp3'),\n",
       " ('https://archive.org/download/the-history-of-rome/20120422%20-%20177-%20The%20Burning%20Ships.mp3',\n",
       "  '20120422 - 177- The Burning Ships.mp3'),\n",
       " ('https://archive.org/download/the-history-of-rome/20120430%20-%20178-%20Not%20With%20A%20Bang%20But%20A%20Whimper.mp3',\n",
       "  '20120430 - 178- Not With A Bang But A Whimper.mp3'),\n",
       " ('https://archive.org/download/the-history-of-rome/20120506%20-%20179-%20The%20End.mp3',\n",
       "  '20120506 - 179- The End.mp3'),\n",
       " ('https://archive.org/download/the-history-of-rome/20130530%20-%20Update-%20One%20Year%20Later.mp3',\n",
       "  '20130530 - Update- One Year Later.mp3'),\n",
       " ('https://archive.org/download/the-history-of-rome/20130916%20-%20Revolutions%20Launch.mp3',\n",
       "  '20130916 - Revolutions Launch.mp3'),\n",
       " ('https://archive.org/download/the-history-of-rome/20170727%20-%20The%20Storm%20Before%20The%20Storm_%20Chapter%201-%20The%20Beasts%20of%20Italy.mp3',\n",
       "  '20170727 - The Storm Before The Storm_ Chapter 1- The Beasts of Italy.mp3')]"
      ]
     },
     "execution_count": 2,
     "metadata": {},
     "output_type": "execute_result"
    }
   ],
   "source": [
    "import requests\n",
    "from bs4 import BeautifulSoup\n",
    "import os\n",
    "from urllib.parse import urljoin, unquote\n",
    "import time\n",
    "from tqdm import tqdm\n",
    "\n",
    "# URL to scrape\n",
    "base_url = \"https://archive.org/download/the-history-of-rome\"\n",
    "print(f\"Scraping MP3 files from: {base_url}\")\n",
    "\n",
    "# Create downloads directory\n",
    "downloads_dir = \"history_of_rome_episodes\"\n",
    "os.makedirs(downloads_dir, exist_ok=True)\n",
    "print(f\"Downloads will be saved to: {downloads_dir}\")\n",
    "\n",
    "# Get the page content\n",
    "response = requests.get(base_url)\n",
    "response.raise_for_status()\n",
    "\n",
    "# Parse the HTML\n",
    "soup = BeautifulSoup(response.content, 'html.parser')\n",
    "\n",
    "# Find all links that end with .mp3\n",
    "mp3_links = []\n",
    "for link in soup.find_all('a', href=True):\n",
    "    href = link['href']\n",
    "    if href.endswith('.mp3'):\n",
    "        # Create full URL\n",
    "        full_url = urljoin(base_url + \"/\", href)\n",
    "        # Decode URL-encoded characters in filename\n",
    "        filename = unquote(href)\n",
    "        mp3_links.append((full_url, filename))\n",
    "\n",
    "print(f\"Found {len(mp3_links)} MP3 files:\")\n",
    "for i, (url, filename) in enumerate(mp3_links[:5], 1):  # Show first 5\n",
    "    print(f\"{i}. {filename}\")\n",
    "if len(mp3_links) > 5:\n",
    "    print(f\"... and {len(mp3_links) - 5} more\")\n",
    "\n",
    "mp3_links"
   ]
  },
  {
   "cell_type": "code",
   "execution_count": 3,
   "id": "dfb0356e",
   "metadata": {},
   "outputs": [
    {
     "name": "stdout",
     "output_type": "stream",
     "text": [
      "\n",
      "Starting download of 192 MP3 files...\n",
      "============================================================\n",
      "\n",
      "[1/192] Downloading: 20070728 - 001- In the Beginning.mp3\n"
     ]
    },
    {
     "name": "stderr",
     "output_type": "stream",
     "text": [
      "20070728 - 001- In the Beginning.mp3: 100%|██████████| 5.40M/5.40M [00:01<00:00, 5.66MB/s]\n"
     ]
    },
    {
     "name": "stdout",
     "output_type": "stream",
     "text": [
      "✓ Downloaded: 20070728 - 001- In the Beginning.mp3\n",
      "\n",
      "[2/192] Downloading: 20100225 - 002- Youthful Indiscretions.mp3\n"
     ]
    },
    {
     "name": "stderr",
     "output_type": "stream",
     "text": [
      "20100225 - 002- Youthful Indiscretions.mp3: 100%|██████████| 5.47M/5.47M [00:02<00:00, 2.38MB/s]\n"
     ]
    },
    {
     "name": "stdout",
     "output_type": "stream",
     "text": [
      "✓ Downloaded: 20100225 - 002- Youthful Indiscretions.mp3\n",
      "\n",
      "[3/192] Downloading: 20100225 - 003a- The Seven Kings of Rome.mp3\n"
     ]
    },
    {
     "name": "stderr",
     "output_type": "stream",
     "text": [
      "20100225 - 003a- The Seven Kings of Rome.mp3: 100%|██████████| 7.33M/7.33M [00:02<00:00, 2.60MB/s]\n"
     ]
    },
    {
     "name": "stdout",
     "output_type": "stream",
     "text": [
      "✓ Downloaded: 20100225 - 003a- The Seven Kings of Rome.mp3\n",
      "\n",
      "[4/192] Downloading: 20100225 - 003b- The Seven Kings of Rome.mp3\n"
     ]
    },
    {
     "name": "stderr",
     "output_type": "stream",
     "text": [
      "20100225 - 003b- The Seven Kings of Rome.mp3: 100%|██████████| 8.32M/8.32M [00:01<00:00, 7.92MB/s]\n"
     ]
    },
    {
     "name": "stdout",
     "output_type": "stream",
     "text": [
      "✓ Downloaded: 20100225 - 003b- The Seven Kings of Rome.mp3\n",
      "\n",
      "[5/192] Downloading: 20100225 - 004- The Public Thing.mp3\n"
     ]
    },
    {
     "name": "stderr",
     "output_type": "stream",
     "text": [
      "20100225 - 004- The Public Thing.mp3: 100%|██████████| 6.79M/6.79M [00:00<00:00, 9.52MB/s]\n"
     ]
    },
    {
     "name": "stdout",
     "output_type": "stream",
     "text": [
      "✓ Downloaded: 20100225 - 004- The Public Thing.mp3\n",
      "\n",
      "[6/192] Downloading: 20100225 - 005- Trials and Tribunlations.mp3\n"
     ]
    },
    {
     "name": "stderr",
     "output_type": "stream",
     "text": [
      "20100225 - 005- Trials and Tribunlations.mp3: 100%|██████████| 7.25M/7.25M [00:02<00:00, 3.47MB/s]\n"
     ]
    },
    {
     "name": "stdout",
     "output_type": "stream",
     "text": [
      "✓ Downloaded: 20100225 - 005- Trials and Tribunlations.mp3\n",
      "\n",
      "[7/192] Downloading: 20100225 - 006- The Twelve Tables.mp3\n"
     ]
    },
    {
     "name": "stderr",
     "output_type": "stream",
     "text": [
      "20100225 - 006- The Twelve Tables.mp3: 100%|██████████| 7.30M/7.30M [00:04<00:00, 1.77MB/s]\n"
     ]
    },
    {
     "name": "stdout",
     "output_type": "stream",
     "text": [
      "✓ Downloaded: 20100225 - 006- The Twelve Tables.mp3\n",
      "\n",
      "[8/192] Downloading: 20100225 - 007- The Roman Washington.mp3\n"
     ]
    },
    {
     "name": "stderr",
     "output_type": "stream",
     "text": [
      "20100225 - 007- The Roman Washington.mp3: 100%|██████████| 5.56M/5.56M [00:01<00:00, 3.86MB/s]\n"
     ]
    },
    {
     "name": "stdout",
     "output_type": "stream",
     "text": [
      "✓ Downloaded: 20100225 - 007- The Roman Washington.mp3\n",
      "\n",
      "[9/192] Downloading: 20100225 - 008- Decades of Gloom.mp3\n"
     ]
    },
    {
     "name": "stderr",
     "output_type": "stream",
     "text": [
      "20100225 - 008- Decades of Gloom.mp3: 100%|██████████| 7.06M/7.06M [00:00<00:00, 8.37MB/s]\n"
     ]
    },
    {
     "name": "stdout",
     "output_type": "stream",
     "text": [
      "✓ Downloaded: 20100225 - 008- Decades of Gloom.mp3\n",
      "\n",
      "[10/192] Downloading: 20100225 - 009- A Trojan War.mp3\n"
     ]
    },
    {
     "name": "stderr",
     "output_type": "stream",
     "text": [
      "20100225 - 009- A Trojan War.mp3: 100%|██████████| 6.35M/6.35M [00:01<00:00, 4.41MB/s]\n"
     ]
    },
    {
     "name": "stdout",
     "output_type": "stream",
     "text": [
      "✓ Downloaded: 20100225 - 009- A Trojan War.mp3\n",
      "\n",
      "[11/192] Downloading: 20100225 - 010_ Barbarians at the Gates.mp3\n"
     ]
    },
    {
     "name": "stderr",
     "output_type": "stream",
     "text": [
      "20100225 - 010_ Barbarians at the Gates.mp3: 100%|██████████| 7.25M/7.25M [00:04<00:00, 1.55MB/s]\n"
     ]
    },
    {
     "name": "stdout",
     "output_type": "stream",
     "text": [
      "✓ Downloaded: 20100225 - 010_ Barbarians at the Gates.mp3\n",
      "\n",
      "[12/192] Downloading: 20100225 - 011- The Morning After.mp3\n"
     ]
    },
    {
     "name": "stderr",
     "output_type": "stream",
     "text": [
      "20100225 - 011- The Morning After.mp3: 100%|██████████| 7.63M/7.63M [00:00<00:00, 9.36MB/s]\n"
     ]
    },
    {
     "name": "stdout",
     "output_type": "stream",
     "text": [
      "✓ Downloaded: 20100225 - 011- The Morning After.mp3\n",
      "\n",
      "[13/192] Downloading: 20100225 - 012- The First Samnite War.mp3\n"
     ]
    },
    {
     "name": "stderr",
     "output_type": "stream",
     "text": [
      "20100225 - 012- The First Samnite War.mp3: 100%|██████████| 8.35M/8.35M [00:02<00:00, 3.18MB/s]\n"
     ]
    },
    {
     "name": "stdout",
     "output_type": "stream",
     "text": [
      "✓ Downloaded: 20100225 - 012- The First Samnite War.mp3\n",
      "\n",
      "[14/192] Downloading: 20100225 - 013- The Latin War.mp3\n"
     ]
    },
    {
     "name": "stderr",
     "output_type": "stream",
     "text": [
      "20100225 - 013- The Latin War.mp3: 100%|██████████| 6.50M/6.50M [00:02<00:00, 2.78MB/s]\n"
     ]
    },
    {
     "name": "stdout",
     "output_type": "stream",
     "text": [
      "✓ Downloaded: 20100225 - 013- The Latin War.mp3\n",
      "\n",
      "[15/192] Downloading: 20100225 - 014a- A Phalanx With Joints.mp3\n"
     ]
    },
    {
     "name": "stderr",
     "output_type": "stream",
     "text": [
      "20100225 - 014a- A Phalanx With Joints.mp3: 100%|██████████| 5.21M/5.21M [00:02<00:00, 2.05MB/s]\n"
     ]
    },
    {
     "name": "stdout",
     "output_type": "stream",
     "text": [
      "✓ Downloaded: 20100225 - 014a- A Phalanx With Joints.mp3\n",
      "\n",
      "[16/192] Downloading: 20100225 - 014b- A Phalanx With Joints.mp3\n"
     ]
    },
    {
     "name": "stderr",
     "output_type": "stream",
     "text": [
      "20100225 - 014b- A Phalanx With Joints.mp3: 100%|██████████| 7.77M/7.77M [00:04<00:00, 1.87MB/s]\n"
     ]
    },
    {
     "name": "stdout",
     "output_type": "stream",
     "text": [
      "✓ Downloaded: 20100225 - 014b- A Phalanx With Joints.mp3\n",
      "\n",
      "[17/192] Downloading: 20100225 - 015a- The Second Samnite War.mp3\n"
     ]
    },
    {
     "name": "stderr",
     "output_type": "stream",
     "text": [
      "20100225 - 015a- The Second Samnite War.mp3: 100%|██████████| 8.37M/8.37M [00:01<00:00, 7.36MB/s]\n"
     ]
    },
    {
     "name": "stdout",
     "output_type": "stream",
     "text": [
      "✓ Downloaded: 20100225 - 015a- The Second Samnite War.mp3\n",
      "\n",
      "[18/192] Downloading: 20100227 - 015b- The Second Samnite War.mp3\n"
     ]
    },
    {
     "name": "stderr",
     "output_type": "stream",
     "text": [
      "20100227 - 015b- The Second Samnite War.mp3: 100%|██████████| 6.72M/6.72M [00:02<00:00, 3.11MB/s]\n"
     ]
    },
    {
     "name": "stdout",
     "output_type": "stream",
     "text": [
      "✓ Downloaded: 20100227 - 015b- The Second Samnite War.mp3\n",
      "\n",
      "[19/192] Downloading: 20100227 - 016- The Third Samnite War.mp3\n"
     ]
    },
    {
     "name": "stderr",
     "output_type": "stream",
     "text": [
      "20100227 - 016- The Third Samnite War.mp3: 100%|██████████| 7.14M/7.14M [00:02<00:00, 3.32MB/s]\n"
     ]
    },
    {
     "name": "stdout",
     "output_type": "stream",
     "text": [
      "✓ Downloaded: 20100227 - 016- The Third Samnite War.mp3\n",
      "\n",
      "[20/192] Downloading: 20100228 - 017- Pyrrhic Victories.mp3\n"
     ]
    },
    {
     "name": "stderr",
     "output_type": "stream",
     "text": [
      "20100228 - 017- Pyrrhic Victories.mp3: 100%|██████████| 8.17M/8.17M [00:00<00:00, 8.61MB/s]\n"
     ]
    },
    {
     "name": "stdout",
     "output_type": "stream",
     "text": [
      "✓ Downloaded: 20100228 - 017- Pyrrhic Victories.mp3\n",
      "\n",
      "[21/192] Downloading: 20100228 - 018- A History of Rome Christmas.mp3\n"
     ]
    },
    {
     "name": "stderr",
     "output_type": "stream",
     "text": [
      "20100228 - 018- A History of Rome Christmas.mp3: 100%|██████████| 5.84M/5.84M [00:03<00:00, 2.00MB/s]\n"
     ]
    },
    {
     "name": "stdout",
     "output_type": "stream",
     "text": [
      "✓ Downloaded: 20100228 - 018- A History of Rome Christmas.mp3\n",
      "\n",
      "[22/192] Downloading: 20100228 - 019- Prelude to the First Punic War.mp3\n"
     ]
    },
    {
     "name": "stderr",
     "output_type": "stream",
     "text": [
      "20100228 - 019- Prelude to the First Punic War.mp3: 100%|██████████| 7.36M/7.36M [00:06<00:00, 1.17MB/s]\n"
     ]
    },
    {
     "name": "stdout",
     "output_type": "stream",
     "text": [
      "✓ Downloaded: 20100228 - 019- Prelude to the First Punic War.mp3\n",
      "\n",
      "[23/192] Downloading: 20100228 - 020a- The First Punic War.mp3\n"
     ]
    },
    {
     "name": "stderr",
     "output_type": "stream",
     "text": [
      "20100228 - 020a- The First Punic War.mp3: 100%|██████████| 10.4M/10.4M [00:03<00:00, 2.87MB/s]\n"
     ]
    },
    {
     "name": "stdout",
     "output_type": "stream",
     "text": [
      "✓ Downloaded: 20100228 - 020a- The First Punic War.mp3\n",
      "\n",
      "[24/192] Downloading: 20100228 - 020b- The First Punic War.mp3\n"
     ]
    },
    {
     "name": "stderr",
     "output_type": "stream",
     "text": [
      "20100228 - 020b- The First Punic War.mp3: 100%|██████████| 10.5M/10.5M [00:01<00:00, 6.02MB/s]\n"
     ]
    },
    {
     "name": "stdout",
     "output_type": "stream",
     "text": [
      "✓ Downloaded: 20100228 - 020b- The First Punic War.mp3\n",
      "\n",
      "[25/192] Downloading: 20100228 - 021- Interbellum.mp3\n"
     ]
    },
    {
     "name": "stderr",
     "output_type": "stream",
     "text": [
      "20100228 - 021- Interbellum.mp3: 100%|██████████| 7.04M/7.04M [00:02<00:00, 3.24MB/s]\n"
     ]
    },
    {
     "name": "stdout",
     "output_type": "stream",
     "text": [
      "✓ Downloaded: 20100228 - 021- Interbellum.mp3\n",
      "\n",
      "[26/192] Downloading: 20100228 - 022- Prelude to the Second Punic War.mp3\n"
     ]
    },
    {
     "name": "stderr",
     "output_type": "stream",
     "text": [
      "20100228 - 022- Prelude to the Second Punic War.mp: 100%|██████████| 6.69M/6.69M [00:01<00:00, 5.99MB/s]\n"
     ]
    },
    {
     "name": "stdout",
     "output_type": "stream",
     "text": [
      "✓ Downloaded: 20100228 - 022- Prelude to the Second Punic War.mp3\n",
      "\n",
      "[27/192] Downloading: 20100228 - 023a- The War With Hannibal.mp3\n"
     ]
    },
    {
     "name": "stderr",
     "output_type": "stream",
     "text": [
      "20100228 - 023a- The War With Hannibal.mp3: 100%|██████████| 7.12M/7.12M [00:02<00:00, 3.40MB/s]\n"
     ]
    },
    {
     "name": "stdout",
     "output_type": "stream",
     "text": [
      "✓ Downloaded: 20100228 - 023a- The War With Hannibal.mp3\n",
      "\n",
      "[28/192] Downloading: 20100228 - 023b- The War With Hannibal.mp3\n"
     ]
    },
    {
     "name": "stderr",
     "output_type": "stream",
     "text": [
      "20100228 - 023b- The War With Hannibal.mp3: 100%|██████████| 7.86M/7.86M [00:01<00:00, 4.86MB/s]\n"
     ]
    },
    {
     "name": "stdout",
     "output_type": "stream",
     "text": [
      "✓ Downloaded: 20100228 - 023b- The War With Hannibal.mp3\n",
      "\n",
      "[29/192] Downloading: 20100228 - 023c- The War With Hannibal.mp3\n"
     ]
    },
    {
     "name": "stderr",
     "output_type": "stream",
     "text": [
      "20100228 - 023c- The War With Hannibal.mp3: 100%|██████████| 7.26M/7.26M [00:01<00:00, 5.99MB/s]\n"
     ]
    },
    {
     "name": "stdout",
     "output_type": "stream",
     "text": [
      "✓ Downloaded: 20100228 - 023c- The War With Hannibal.mp3\n",
      "\n",
      "[30/192] Downloading: 20100228 - 023d- The War With Hannibal.mp3\n"
     ]
    },
    {
     "name": "stderr",
     "output_type": "stream",
     "text": [
      "20100228 - 023d- The War With Hannibal.mp3: 100%|██████████| 10.3M/10.3M [00:02<00:00, 5.15MB/s]\n"
     ]
    },
    {
     "name": "stdout",
     "output_type": "stream",
     "text": [
      "✓ Downloaded: 20100228 - 023d- The War With Hannibal.mp3\n",
      "\n",
      "[31/192] Downloading: 20100228 - 023e- The War With Hannibal.mp3\n"
     ]
    },
    {
     "name": "stderr",
     "output_type": "stream",
     "text": [
      "20100228 - 023e- The War With Hannibal.mp3: 100%|██████████| 8.30M/8.30M [00:00<00:00, 9.57MB/s]\n"
     ]
    },
    {
     "name": "stdout",
     "output_type": "stream",
     "text": [
      "✓ Downloaded: 20100228 - 023e- The War With Hannibal.mp3\n",
      "\n",
      "[32/192] Downloading: 20100228 - 024- The Second Macedonian War.mp3\n"
     ]
    },
    {
     "name": "stderr",
     "output_type": "stream",
     "text": [
      "20100228 - 024- The Second Macedonian War.mp3: 100%|██████████| 7.53M/7.53M [00:02<00:00, 2.65MB/s]\n"
     ]
    },
    {
     "name": "stdout",
     "output_type": "stream",
     "text": [
      "✓ Downloaded: 20100228 - 024- The Second Macedonian War.mp3\n",
      "\n",
      "[33/192] Downloading: 20100228 - 025- The Syrian War.mp3\n"
     ]
    },
    {
     "name": "stderr",
     "output_type": "stream",
     "text": [
      "20100228 - 025- The Syrian War.mp3: 100%|██████████| 6.17M/6.17M [00:01<00:00, 5.74MB/s]\n"
     ]
    },
    {
     "name": "stdout",
     "output_type": "stream",
     "text": [
      "✓ Downloaded: 20100228 - 025- The Syrian War.mp3\n",
      "\n",
      "[34/192] Downloading: 20100228 - 026- The Third Macedonian War.mp3\n"
     ]
    },
    {
     "name": "stderr",
     "output_type": "stream",
     "text": [
      "20100228 - 026- The Third Macedonian War.mp3: 100%|██████████| 6.58M/6.58M [00:02<00:00, 2.64MB/s]\n"
     ]
    },
    {
     "name": "stdout",
     "output_type": "stream",
     "text": [
      "✓ Downloaded: 20100228 - 026- The Third Macedonian War.mp3\n",
      "\n",
      "[35/192] Downloading: 20100228 - 027- Mopping Up.mp3\n"
     ]
    },
    {
     "name": "stderr",
     "output_type": "stream",
     "text": [
      "20100228 - 027- Mopping Up.mp3: 100%|██████████| 6.63M/6.63M [00:00<00:00, 7.19MB/s]\n"
     ]
    },
    {
     "name": "stdout",
     "output_type": "stream",
     "text": [
      "✓ Downloaded: 20100228 - 027- Mopping Up.mp3\n",
      "\n",
      "[36/192] Downloading: 20100228 - 028- Taking Stock.mp3\n"
     ]
    },
    {
     "name": "stderr",
     "output_type": "stream",
     "text": [
      "20100228 - 028- Taking Stock.mp3: 100%|██████████| 6.06M/6.06M [00:02<00:00, 2.46MB/s]\n"
     ]
    },
    {
     "name": "stdout",
     "output_type": "stream",
     "text": [
      "✓ Downloaded: 20100228 - 028- Taking Stock.mp3\n",
      "\n",
      "[37/192] Downloading: 20100228 - 029- Tiberius Gracchus.mp3\n"
     ]
    },
    {
     "name": "stderr",
     "output_type": "stream",
     "text": [
      "20100228 - 029- Tiberius Gracchus.mp3: 100%|██████████| 7.08M/7.08M [00:01<00:00, 3.87MB/s]\n"
     ]
    },
    {
     "name": "stdout",
     "output_type": "stream",
     "text": [
      "✓ Downloaded: 20100228 - 029- Tiberius Gracchus.mp3\n",
      "\n",
      "[38/192] Downloading: 20100228 - 030- Gaius Gracchus.mp3\n"
     ]
    },
    {
     "name": "stderr",
     "output_type": "stream",
     "text": [
      "20100228 - 030- Gaius Gracchus.mp3: 100%|██████████| 7.65M/7.65M [00:01<00:00, 5.05MB/s]\n"
     ]
    },
    {
     "name": "stdout",
     "output_type": "stream",
     "text": [
      "✓ Downloaded: 20100228 - 030- Gaius Gracchus.mp3\n",
      "\n",
      "[39/192] Downloading: 20100228 - 031a- Marius.mp3\n"
     ]
    },
    {
     "name": "stderr",
     "output_type": "stream",
     "text": [
      "20100228 - 031a- Marius.mp3: 100%|██████████| 6.94M/6.94M [00:00<00:00, 8.05MB/s]\n"
     ]
    },
    {
     "name": "stdout",
     "output_type": "stream",
     "text": [
      "✓ Downloaded: 20100228 - 031a- Marius.mp3\n",
      "\n",
      "[40/192] Downloading: 20100228 - 031b- Marius.mp3\n"
     ]
    },
    {
     "name": "stderr",
     "output_type": "stream",
     "text": [
      "20100228 - 031b- Marius.mp3: 100%|██████████| 6.88M/6.88M [00:02<00:00, 2.45MB/s]\n"
     ]
    },
    {
     "name": "stdout",
     "output_type": "stream",
     "text": [
      "✓ Downloaded: 20100228 - 031b- Marius.mp3\n",
      "\n",
      "[41/192] Downloading: 20100228 - 032- The Social War.mp3\n"
     ]
    },
    {
     "name": "stderr",
     "output_type": "stream",
     "text": [
      "20100228 - 032- The Social War.mp3: 100%|██████████| 6.63M/6.63M [00:00<00:00, 8.52MB/s]\n"
     ]
    },
    {
     "name": "stdout",
     "output_type": "stream",
     "text": [
      "✓ Downloaded: 20100228 - 032- The Social War.mp3\n",
      "\n",
      "[42/192] Downloading: 20100228 - 033- Marius and Sulla.mp3\n"
     ]
    },
    {
     "name": "stderr",
     "output_type": "stream",
     "text": [
      "20100228 - 033- Marius and Sulla.mp3: 100%|██████████| 21.1M/21.1M [00:03<00:00, 5.56MB/s]\n"
     ]
    },
    {
     "name": "stdout",
     "output_type": "stream",
     "text": [
      "✓ Downloaded: 20100228 - 033- Marius and Sulla.mp3\n",
      "\n",
      "[43/192] Downloading: 20100228 - 034- No Greater Friend, No Worse Enemy.mp3\n"
     ]
    },
    {
     "name": "stderr",
     "output_type": "stream",
     "text": [
      "20100228 - 034- No Greater Friend, No Worse Enemy.: 100%|██████████| 9.22M/9.22M [00:01<00:00, 7.26MB/s]\n"
     ]
    },
    {
     "name": "stdout",
     "output_type": "stream",
     "text": [
      "✓ Downloaded: 20100228 - 034- No Greater Friend, No Worse Enemy.mp3\n",
      "\n",
      "[44/192] Downloading: 20100228 - 035- Crassus and Pompey.mp3\n"
     ]
    },
    {
     "name": "stderr",
     "output_type": "stream",
     "text": [
      "20100228 - 035- Crassus and Pompey.mp3: 100%|██████████| 8.92M/8.92M [00:07<00:00, 1.31MB/s]\n"
     ]
    },
    {
     "name": "stdout",
     "output_type": "stream",
     "text": [
      "✓ Downloaded: 20100228 - 035- Crassus and Pompey.mp3\n",
      "\n",
      "[45/192] Downloading: 20100228 - 036- I Am Spartacus!.mp3\n"
     ]
    },
    {
     "name": "stderr",
     "output_type": "stream",
     "text": [
      "20100228 - 036- I Am Spartacus!.mp3: 100%|██████████| 9.07M/9.07M [00:01<00:00, 7.69MB/s]\n"
     ]
    },
    {
     "name": "stdout",
     "output_type": "stream",
     "text": [
      "✓ Downloaded: 20100228 - 036- I Am Spartacus!.mp3\n",
      "\n",
      "[46/192] Downloading: 20100228 - 037- Go East Young Man.mp3\n"
     ]
    },
    {
     "name": "stderr",
     "output_type": "stream",
     "text": [
      "20100228 - 037- Go East Young Man.mp3: 100%|██████████| 8.92M/8.92M [00:01<00:00, 8.24MB/s]\n"
     ]
    },
    {
     "name": "stdout",
     "output_type": "stream",
     "text": [
      "✓ Downloaded: 20100228 - 037- Go East Young Man.mp3\n",
      "\n",
      "[47/192] Downloading: 20100228 - 038- The Catiline Conspiracy.mp3\n"
     ]
    },
    {
     "name": "stderr",
     "output_type": "stream",
     "text": [
      "20100228 - 038- The Catiline Conspiracy.mp3: 100%|██████████| 9.22M/9.22M [00:02<00:00, 4.80MB/s]\n"
     ]
    },
    {
     "name": "stdout",
     "output_type": "stream",
     "text": [
      "✓ Downloaded: 20100228 - 038- The Catiline Conspiracy.mp3\n",
      "\n",
      "[48/192] Downloading: 20100228 - 039- The Young Julius Caesar Chronicles.mp3\n"
     ]
    },
    {
     "name": "stderr",
     "output_type": "stream",
     "text": [
      "20100228 - 039- The Young Julius Caesar Chronicles: 100%|██████████| 10.5M/10.5M [00:01<00:00, 9.60MB/s]\n"
     ]
    },
    {
     "name": "stdout",
     "output_type": "stream",
     "text": [
      "✓ Downloaded: 20100228 - 039- The Young Julius Caesar Chronicles.mp3\n",
      "\n",
      "[49/192] Downloading: 20100228 - 040- In the Consulship of Julius and Caesar.mp3\n"
     ]
    },
    {
     "name": "stderr",
     "output_type": "stream",
     "text": [
      "20100228 - 040- In the Consulship of Julius and Ca: 100%|██████████| 10.5M/10.5M [00:01<00:00, 5.98MB/s]\n"
     ]
    },
    {
     "name": "stdout",
     "output_type": "stream",
     "text": [
      "✓ Downloaded: 20100228 - 040- In the Consulship of Julius and Caesar.mp3\n",
      "\n",
      "[50/192] Downloading: 20100228 - 041a- The Gallic Wars.mp3\n"
     ]
    },
    {
     "name": "stderr",
     "output_type": "stream",
     "text": [
      "20100228 - 041a- The Gallic Wars.mp3: 100%|██████████| 9.18M/9.18M [00:01<00:00, 5.31MB/s]\n"
     ]
    },
    {
     "name": "stdout",
     "output_type": "stream",
     "text": [
      "✓ Downloaded: 20100228 - 041a- The Gallic Wars.mp3\n",
      "\n",
      "[51/192] Downloading: 20100228 - 041b- The Gallic Wars.mp3\n"
     ]
    },
    {
     "name": "stderr",
     "output_type": "stream",
     "text": [
      "20100228 - 041b- The Gallic Wars.mp3: 100%|██████████| 11.6M/11.6M [00:03<00:00, 3.39MB/s]\n"
     ]
    },
    {
     "name": "stdout",
     "output_type": "stream",
     "text": [
      "✓ Downloaded: 20100228 - 041b- The Gallic Wars.mp3\n",
      "\n",
      "[52/192] Downloading: 20100228 - 042- Meanwhile, Back in Rome.mp3\n"
     ]
    },
    {
     "name": "stderr",
     "output_type": "stream",
     "text": [
      "20100228 - 042- Meanwhile, Back in Rome.mp3: 100%|██████████| 11.1M/11.1M [00:01<00:00, 8.21MB/s]\n"
     ]
    },
    {
     "name": "stdout",
     "output_type": "stream",
     "text": [
      "✓ Downloaded: 20100228 - 042- Meanwhile, Back in Rome.mp3\n",
      "\n",
      "[53/192] Downloading: 20100228 - 043- Insert Well Known Idiom Here.mp3\n"
     ]
    },
    {
     "name": "stderr",
     "output_type": "stream",
     "text": [
      "20100228 - 043- Insert Well Known Idiom Here.mp3: 100%|██████████| 12.2M/12.2M [00:07<00:00, 1.75MB/s]\n"
     ]
    },
    {
     "name": "stdout",
     "output_type": "stream",
     "text": [
      "✓ Downloaded: 20100228 - 043- Insert Well Known Idiom Here.mp3\n",
      "\n",
      "[54/192] Downloading: 20100228 - 044- Caesar Triumphant.mp3\n"
     ]
    },
    {
     "name": "stderr",
     "output_type": "stream",
     "text": [
      "20100228 - 044- Caesar Triumphant.mp3: 100%|██████████| 11.2M/11.2M [00:02<00:00, 5.15MB/s]\n"
     ]
    },
    {
     "name": "stdout",
     "output_type": "stream",
     "text": [
      "✓ Downloaded: 20100228 - 044- Caesar Triumphant.mp3\n",
      "\n",
      "[55/192] Downloading: 20100228 - 045- The End of the War.mp3\n"
     ]
    },
    {
     "name": "stderr",
     "output_type": "stream",
     "text": [
      "20100228 - 045- The End of the War.mp3: 100%|██████████| 10.9M/10.9M [00:02<00:00, 4.13MB/s]\n"
     ]
    },
    {
     "name": "stdout",
     "output_type": "stream",
     "text": [
      "✓ Downloaded: 20100228 - 045- The End of the War.mp3\n",
      "\n",
      "[56/192] Downloading: 20100228 - 046- Sic Semper Tyrannis.mp3\n"
     ]
    },
    {
     "name": "stderr",
     "output_type": "stream",
     "text": [
      "20100228 - 046- Sic Semper Tyrannis.mp3: 100%|██████████| 9.91M/9.91M [00:01<00:00, 5.29MB/s]\n"
     ]
    },
    {
     "name": "stdout",
     "output_type": "stream",
     "text": [
      "✓ Downloaded: 20100228 - 046- Sic Semper Tyrannis.mp3\n",
      "\n",
      "[57/192] Downloading: 20100228 - 047- Octavius-Octavian.mp3\n"
     ]
    },
    {
     "name": "stderr",
     "output_type": "stream",
     "text": [
      "20100228 - 047- Octavius-Octavian.mp3: 100%|██████████| 10.3M/10.3M [00:02<00:00, 4.82MB/s]\n"
     ]
    },
    {
     "name": "stdout",
     "output_type": "stream",
     "text": [
      "✓ Downloaded: 20100228 - 047- Octavius-Octavian.mp3\n",
      "\n",
      "[58/192] Downloading: 20100228 - 048- The Second Triumvirate.mp3\n"
     ]
    },
    {
     "name": "stderr",
     "output_type": "stream",
     "text": [
      "20100228 - 048- The Second Triumvirate.mp3: 100%|██████████| 11.2M/11.2M [00:04<00:00, 2.67MB/s]\n"
     ]
    },
    {
     "name": "stdout",
     "output_type": "stream",
     "text": [
      "✓ Downloaded: 20100228 - 048- The Second Triumvirate.mp3\n",
      "\n",
      "[59/192] Downloading: 20100228 - 049- Apollo and Dionysus.mp3\n"
     ]
    },
    {
     "name": "stderr",
     "output_type": "stream",
     "text": [
      "20100228 - 049- Apollo and Dionysus.mp3: 100%|██████████| 12.2M/12.2M [00:02<00:00, 4.86MB/s]\n"
     ]
    },
    {
     "name": "stdout",
     "output_type": "stream",
     "text": [
      "✓ Downloaded: 20100228 - 049- Apollo and Dionysus.mp3\n",
      "\n",
      "[60/192] Downloading: 20100228 - 050- The Donations of Alexandria.mp3\n"
     ]
    },
    {
     "name": "stderr",
     "output_type": "stream",
     "text": [
      "20100228 - 050- The Donations of Alexandria.mp3: 100%|██████████| 11.7M/11.7M [00:01<00:00, 7.16MB/s]\n"
     ]
    },
    {
     "name": "stdout",
     "output_type": "stream",
     "text": [
      "✓ Downloaded: 20100228 - 050- The Donations of Alexandria.mp3\n",
      "\n",
      "[61/192] Downloading: 20100228 - 051- Actium.mp3\n"
     ]
    },
    {
     "name": "stderr",
     "output_type": "stream",
     "text": [
      "20100228 - 051- Actium.mp3: 100%|██████████| 11.2M/11.2M [00:03<00:00, 3.57MB/s]\n"
     ]
    },
    {
     "name": "stdout",
     "output_type": "stream",
     "text": [
      "✓ Downloaded: 20100228 - 051- Actium.mp3\n",
      "\n",
      "[62/192] Downloading: 20100228 - 052- Caesar Augustus.mp3\n"
     ]
    },
    {
     "name": "stderr",
     "output_type": "stream",
     "text": [
      "20100228 - 052- Caesar Augustus.mp3: 100%|██████████| 12.8M/12.8M [00:01<00:00, 7.97MB/s]\n"
     ]
    },
    {
     "name": "stdout",
     "output_type": "stream",
     "text": [
      "✓ Downloaded: 20100228 - 052- Caesar Augustus.mp3\n",
      "\n",
      "[63/192] Downloading: 20100228 - 053- Reigning Supreme.mp3\n"
     ]
    },
    {
     "name": "stderr",
     "output_type": "stream",
     "text": [
      "20100228 - 053- Reigning Supreme.mp3: 100%|██████████| 10.9M/10.9M [00:01<00:00, 9.67MB/s]\n"
     ]
    },
    {
     "name": "stdout",
     "output_type": "stream",
     "text": [
      "✓ Downloaded: 20100228 - 053- Reigning Supreme.mp3\n",
      "\n",
      "[64/192] Downloading: 20100228 - 054- All in the Family.mp3\n"
     ]
    },
    {
     "name": "stderr",
     "output_type": "stream",
     "text": [
      "20100228 - 054- All in the Family.mp3: 100%|██████████| 11.2M/11.2M [00:01<00:00, 10.4MB/s]\n"
     ]
    },
    {
     "name": "stdout",
     "output_type": "stream",
     "text": [
      "✓ Downloaded: 20100228 - 054- All in the Family.mp3\n",
      "\n",
      "[65/192] Downloading: 20100228 - 055- Teutoburg Nightmares.mp3\n"
     ]
    },
    {
     "name": "stderr",
     "output_type": "stream",
     "text": [
      "20100228 - 055- Teutoburg Nightmares.mp3: 100%|██████████| 11.7M/11.7M [00:02<00:00, 5.54MB/s]\n"
     ]
    },
    {
     "name": "stdout",
     "output_type": "stream",
     "text": [
      "✓ Downloaded: 20100228 - 055- Teutoburg Nightmares.mp3\n",
      "\n",
      "[66/192] Downloading: 20100228 - 056- The King is Dead, Long Live the King.mp3\n"
     ]
    },
    {
     "name": "stderr",
     "output_type": "stream",
     "text": [
      "20100228 - 056- The King is Dead, Long Live the Ki: 100%|██████████| 9.46M/9.46M [00:01<00:00, 8.79MB/s]\n"
     ]
    },
    {
     "name": "stdout",
     "output_type": "stream",
     "text": [
      "✓ Downloaded: 20100228 - 056- The King is Dead, Long Live the King.mp3\n",
      "\n",
      "[67/192] Downloading: 20100228 - 057- Germanicus.mp3\n"
     ]
    },
    {
     "name": "stderr",
     "output_type": "stream",
     "text": [
      "20100228 - 057- Germanicus.mp3: 100%|██████████| 11.5M/11.5M [00:01<00:00, 8.62MB/s]\n"
     ]
    },
    {
     "name": "stdout",
     "output_type": "stream",
     "text": [
      "✓ Downloaded: 20100228 - 057- Germanicus.mp3\n",
      "\n",
      "[68/192] Downloading: 20100301 - 058- Partner of my Labors.mp3\n"
     ]
    },
    {
     "name": "stderr",
     "output_type": "stream",
     "text": [
      "20100301 - 058- Partner of my Labors.mp3: 100%|██████████| 12.5M/12.5M [00:03<00:00, 3.59MB/s]\n"
     ]
    },
    {
     "name": "stdout",
     "output_type": "stream",
     "text": [
      "✓ Downloaded: 20100301 - 058- Partner of my Labors.mp3\n",
      "\n",
      "[69/192] Downloading: 20100301 - 059- To the Tiber with Tiberius.mp3\n"
     ]
    },
    {
     "name": "stderr",
     "output_type": "stream",
     "text": [
      "20100301 - 059- To the Tiber with Tiberius.mp3: 100%|██████████| 10.3M/10.3M [00:01<00:00, 9.86MB/s]\n"
     ]
    },
    {
     "name": "stdout",
     "output_type": "stream",
     "text": [
      "✓ Downloaded: 20100301 - 059- To the Tiber with Tiberius.mp3\n",
      "\n",
      "[70/192] Downloading: 20100301 - 060- No Better Slave, No Worse Master.mp3\n"
     ]
    },
    {
     "name": "stderr",
     "output_type": "stream",
     "text": [
      "20100301 - 060- No Better Slave, No Worse Master.m: 100%|██████████| 10.5M/10.5M [00:01<00:00, 8.18MB/s]\n"
     ]
    },
    {
     "name": "stdout",
     "output_type": "stream",
     "text": [
      "✓ Downloaded: 20100301 - 060- No Better Slave, No Worse Master.mp3\n",
      "\n",
      "[71/192] Downloading: 20100301 - 061- What, me Claudius_.mp3\n"
     ]
    },
    {
     "name": "stderr",
     "output_type": "stream",
     "text": [
      "20100301 - 061- What, me Claudius_.mp3: 100%|██████████| 10.2M/10.2M [00:01<00:00, 7.29MB/s]\n"
     ]
    },
    {
     "name": "stdout",
     "output_type": "stream",
     "text": [
      "✓ Downloaded: 20100301 - 061- What, me Claudius_.mp3\n",
      "\n",
      "[72/192] Downloading: 20100301 - 062- Take My Wife...Please.mp3\n"
     ]
    },
    {
     "name": "stderr",
     "output_type": "stream",
     "text": [
      "20100301 - 062- Take My Wife...Please.mp3: 100%|██████████| 11.7M/11.7M [00:03<00:00, 3.55MB/s]\n"
     ]
    },
    {
     "name": "stdout",
     "output_type": "stream",
     "text": [
      "✓ Downloaded: 20100301 - 062- Take My Wife...Please.mp3\n",
      "\n",
      "[73/192] Downloading: 20100301 - 063- A Farewell to Claudius.mp3\n"
     ]
    },
    {
     "name": "stderr",
     "output_type": "stream",
     "text": [
      "20100301 - 063- A Farewell to Claudius.mp3: 100%|██████████| 11.8M/11.8M [00:01<00:00, 8.40MB/s]\n"
     ]
    },
    {
     "name": "stdout",
     "output_type": "stream",
     "text": [
      "✓ Downloaded: 20100301 - 063- A Farewell to Claudius.mp3\n",
      "\n",
      "[74/192] Downloading: 20100301 - 064- Smite My Womb.mp3\n"
     ]
    },
    {
     "name": "stderr",
     "output_type": "stream",
     "text": [
      "20100301 - 064- Smite My Womb.mp3: 100%|██████████| 11.7M/11.7M [00:02<00:00, 5.55MB/s]\n"
     ]
    },
    {
     "name": "stdout",
     "output_type": "stream",
     "text": [
      "✓ Downloaded: 20100301 - 064- Smite My Womb.mp3\n",
      "\n",
      "[75/192] Downloading: 20100301 - 065- Burn It To The Ground.mp3\n"
     ]
    },
    {
     "name": "stderr",
     "output_type": "stream",
     "text": [
      "20100301 - 065- Burn It To The Ground.mp3: 100%|██████████| 11.6M/11.6M [00:01<00:00, 6.35MB/s]\n"
     ]
    },
    {
     "name": "stdout",
     "output_type": "stream",
     "text": [
      "✓ Downloaded: 20100301 - 065- Burn It To The Ground.mp3\n",
      "\n",
      "[76/192] Downloading: 20100301 - 066- 666.mp3\n"
     ]
    },
    {
     "name": "stderr",
     "output_type": "stream",
     "text": [
      "20100301 - 066- 666.mp3: 100%|██████████| 11.3M/11.3M [00:04<00:00, 2.80MB/s]\n"
     ]
    },
    {
     "name": "stdout",
     "output_type": "stream",
     "text": [
      "✓ Downloaded: 20100301 - 066- 666.mp3\n",
      "\n",
      "[77/192] Downloading: 20100301 - 067- What an Artist the World is Losing.mp3\n"
     ]
    },
    {
     "name": "stderr",
     "output_type": "stream",
     "text": [
      "20100301 - 067- What an Artist the World is Losing: 100%|██████████| 10.2M/10.2M [00:01<00:00, 6.62MB/s]\n"
     ]
    },
    {
     "name": "stdout",
     "output_type": "stream",
     "text": [
      "✓ Downloaded: 20100301 - 067- What an Artist the World is Losing.mp3\n",
      "\n",
      "[78/192] Downloading: 20100301 - 068- Three Emperors.mp3\n"
     ]
    },
    {
     "name": "stderr",
     "output_type": "stream",
     "text": [
      "20100301 - 068- Three Emperors.mp3: 100%|██████████| 10.0M/10.0M [00:09<00:00, 1.15MB/s]\n"
     ]
    },
    {
     "name": "stdout",
     "output_type": "stream",
     "text": [
      "✓ Downloaded: 20100301 - 068- Three Emperors.mp3\n",
      "\n",
      "[79/192] Downloading: 20100301 - 069- As History of Rome Wedding.mp3\n"
     ]
    },
    {
     "name": "stderr",
     "output_type": "stream",
     "text": [
      "20100301 - 069- As History of Rome Wedding.mp3: 100%|██████████| 7.65M/7.65M [00:01<00:00, 6.12MB/s]\n"
     ]
    },
    {
     "name": "stdout",
     "output_type": "stream",
     "text": [
      "✓ Downloaded: 20100301 - 069- As History of Rome Wedding.mp3\n",
      "\n",
      "[80/192] Downloading: 20100301 - 070- Galba and Otho_ The History of Rome.mp3\n"
     ]
    },
    {
     "name": "stderr",
     "output_type": "stream",
     "text": [
      "20100301 - 070- Galba and Otho_ The History of Rom: 100%|██████████| 12.4M/12.4M [00:02<00:00, 6.39MB/s]\n"
     ]
    },
    {
     "name": "stdout",
     "output_type": "stream",
     "text": [
      "✓ Downloaded: 20100301 - 070- Galba and Otho_ The History of Rome.mp3\n",
      "\n",
      "[81/192] Downloading: 20100301 - 071- Otho and Vitellius.mp3\n"
     ]
    },
    {
     "name": "stderr",
     "output_type": "stream",
     "text": [
      "20100301 - 071- Otho and Vitellius.mp3: 100%|██████████| 11.3M/11.3M [00:01<00:00, 8.37MB/s]\n"
     ]
    },
    {
     "name": "stdout",
     "output_type": "stream",
     "text": [
      "✓ Downloaded: 20100301 - 071- Otho and Vitellius.mp3\n",
      "\n",
      "[82/192] Downloading: 20100301 - 072- Vitellius and Vespasian.mp3\n"
     ]
    },
    {
     "name": "stderr",
     "output_type": "stream",
     "text": [
      "20100301 - 072- Vitellius and Vespasian.mp3: 100%|██████████| 12.2M/12.2M [00:01<00:00, 10.4MB/s]\n"
     ]
    },
    {
     "name": "stdout",
     "output_type": "stream",
     "text": [
      "✓ Downloaded: 20100301 - 072- Vitellius and Vespasian.mp3\n",
      "\n",
      "[83/192] Downloading: 20100301 - 073- The Only Man Who Improved.mp3\n"
     ]
    },
    {
     "name": "stderr",
     "output_type": "stream",
     "text": [
      "20100301 - 073- The Only Man Who Improved.mp3: 100%|██████████| 12.0M/12.0M [00:03<00:00, 3.48MB/s]\n"
     ]
    },
    {
     "name": "stdout",
     "output_type": "stream",
     "text": [
      "✓ Downloaded: 20100301 - 073- The Only Man Who Improved.mp3\n",
      "\n",
      "[84/192] Downloading: 20100301 - 074- Friends I Have Wasted a Day.mp3\n"
     ]
    },
    {
     "name": "stderr",
     "output_type": "stream",
     "text": [
      "20100301 - 074- Friends I Have Wasted a Day.mp3: 100%|██████████| 11.0M/11.0M [00:01<00:00, 7.85MB/s]\n"
     ]
    },
    {
     "name": "stdout",
     "output_type": "stream",
     "text": [
      "✓ Downloaded: 20100301 - 074- Friends I Have Wasted a Day.mp3\n",
      "\n",
      "[85/192] Downloading: 20100301 - 075- The Forgotten Son.mp3\n"
     ]
    },
    {
     "name": "stderr",
     "output_type": "stream",
     "text": [
      "20100301 - 075- The Forgotten Son.mp3: 100%|██████████| 12.2M/12.2M [00:01<00:00, 8.78MB/s]\n"
     ]
    },
    {
     "name": "stdout",
     "output_type": "stream",
     "text": [
      "✓ Downloaded: 20100301 - 075- The Forgotten Son.mp3\n",
      "\n",
      "[86/192] Downloading: 20100301 - 076- Mock Triumphs.mp3\n"
     ]
    },
    {
     "name": "stderr",
     "output_type": "stream",
     "text": [
      "20100301 - 076- Mock Triumphs.mp3: 100%|██████████| 10.9M/10.9M [00:03<00:00, 2.94MB/s]\n"
     ]
    },
    {
     "name": "stdout",
     "output_type": "stream",
     "text": [
      "✓ Downloaded: 20100301 - 076- Mock Triumphs.mp3\n",
      "\n",
      "[87/192] Downloading: 20100301 - 077- What Time is It_.mp3\n"
     ]
    },
    {
     "name": "stderr",
     "output_type": "stream",
     "text": [
      "20100301 - 077- What Time is It_.mp3: 100%|██████████| 10.6M/10.6M [00:01<00:00, 8.47MB/s]\n"
     ]
    },
    {
     "name": "stdout",
     "output_type": "stream",
     "text": [
      "✓ Downloaded: 20100301 - 077- What Time is It_.mp3\n",
      "\n",
      "[88/192] Downloading: 20100301 - 078- Imperial Stop Gap.mp3\n"
     ]
    },
    {
     "name": "stderr",
     "output_type": "stream",
     "text": [
      "20100301 - 078- Imperial Stop Gap.mp3: 100%|██████████| 11.3M/11.3M [00:01<00:00, 7.77MB/s]\n"
     ]
    },
    {
     "name": "stdout",
     "output_type": "stream",
     "text": [
      "✓ Downloaded: 20100301 - 078- Imperial Stop Gap.mp3\n",
      "\n",
      "[89/192] Downloading: 20100301 - 079- The Dacian Wars.mp3\n"
     ]
    },
    {
     "name": "stderr",
     "output_type": "stream",
     "text": [
      "20100301 - 079- The Dacian Wars.mp3: 100%|██████████| 10.5M/10.5M [00:01<00:00, 9.46MB/s]\n"
     ]
    },
    {
     "name": "stdout",
     "output_type": "stream",
     "text": [
      "✓ Downloaded: 20100301 - 079- The Dacian Wars.mp3\n",
      "\n",
      "[90/192] Downloading: 20100301 - 080- Optimus Trajan.mp3\n"
     ]
    },
    {
     "name": "stderr",
     "output_type": "stream",
     "text": [
      "20100301 - 080- Optimus Trajan.mp3: 100%|██████████| 9.98M/9.98M [00:02<00:00, 3.81MB/s]\n"
     ]
    },
    {
     "name": "stdout",
     "output_type": "stream",
     "text": [
      "✓ Downloaded: 20100301 - 080- Optimus Trajan.mp3\n",
      "\n",
      "[91/192] Downloading: 20100301 - 081- The Greekling.mp3\n"
     ]
    },
    {
     "name": "stderr",
     "output_type": "stream",
     "text": [
      "20100301 - 081- The Greekling.mp3: 100%|██████████| 10.8M/10.8M [00:01<00:00, 8.07MB/s]\n"
     ]
    },
    {
     "name": "stdout",
     "output_type": "stream",
     "text": [
      "✓ Downloaded: 20100301 - 081- The Greekling.mp3\n",
      "\n",
      "[92/192] Downloading: 20100301 - 082- Hadrian's Walls.mp3\n"
     ]
    },
    {
     "name": "stderr",
     "output_type": "stream",
     "text": [
      "20100301 - 082- Hadrian's Walls.mp3: 100%|██████████| 12.7M/12.7M [00:03<00:00, 3.91MB/s]\n"
     ]
    },
    {
     "name": "stdout",
     "output_type": "stream",
     "text": [
      "✓ Downloaded: 20100301 - 082- Hadrian's Walls.mp3\n",
      "\n",
      "[93/192] Downloading: 20100301 - 083- May His Bones Be Crushed.mp3\n"
     ]
    },
    {
     "name": "stderr",
     "output_type": "stream",
     "text": [
      "20100301 - 083- May His Bones Be Crushed.mp3: 100%|██████████| 12.1M/12.1M [00:02<00:00, 5.49MB/s]\n"
     ]
    },
    {
     "name": "stdout",
     "output_type": "stream",
     "text": [
      "✓ Downloaded: 20100301 - 083- May His Bones Be Crushed.mp3\n",
      "\n",
      "[94/192] Downloading: 20100301 - 084- Longing For Death.mp3\n"
     ]
    },
    {
     "name": "stderr",
     "output_type": "stream",
     "text": [
      "20100301 - 084- Longing For Death.mp3: 100%|██████████| 12.5M/12.5M [00:01<00:00, 7.80MB/s]\n"
     ]
    },
    {
     "name": "stdout",
     "output_type": "stream",
     "text": [
      "✓ Downloaded: 20100301 - 084- Longing For Death.mp3\n",
      "\n",
      "[95/192] Downloading: 20100301 - 085- Antoninus the Dutiful.mp3\n"
     ]
    },
    {
     "name": "stderr",
     "output_type": "stream",
     "text": [
      "20100301 - 085- Antoninus the Dutiful.mp3: 100%|██████████| 12.9M/12.9M [00:02<00:00, 6.67MB/s]\n"
     ]
    },
    {
     "name": "stdout",
     "output_type": "stream",
     "text": [
      "✓ Downloaded: 20100301 - 085- Antoninus the Dutiful.mp3\n",
      "\n",
      "[96/192] Downloading: 20100308 - 086- Wealth and Class.mp3\n"
     ]
    },
    {
     "name": "stderr",
     "output_type": "stream",
     "text": [
      "20100308 - 086- Wealth and Class.mp3: 100%|██████████| 12.6M/12.6M [00:01<00:00, 10.4MB/s]\n"
     ]
    },
    {
     "name": "stdout",
     "output_type": "stream",
     "text": [
      "✓ Downloaded: 20100308 - 086- Wealth and Class.mp3\n",
      "\n",
      "[97/192] Downloading: 20100315 - 087- Thinking and Feeling.mp3\n"
     ]
    },
    {
     "name": "stderr",
     "output_type": "stream",
     "text": [
      "20100315 - 087- Thinking and Feeling.mp3: 100%|██████████| 12.8M/12.8M [00:01<00:00, 7.41MB/s]\n"
     ]
    },
    {
     "name": "stdout",
     "output_type": "stream",
     "text": [
      "✓ Downloaded: 20100315 - 087- Thinking and Feeling.mp3\n",
      "\n",
      "[98/192] Downloading: 20100322 - 088- A Day in the Life.mp3\n"
     ]
    },
    {
     "name": "stderr",
     "output_type": "stream",
     "text": [
      "20100322 - 088- A Day in the Life.mp3: 100%|██████████| 11.3M/11.3M [00:01<00:00, 6.66MB/s]\n"
     ]
    },
    {
     "name": "stdout",
     "output_type": "stream",
     "text": [
      "✓ Downloaded: 20100322 - 088- A Day in the Life.mp3\n",
      "\n",
      "[99/192] Downloading: 20100405 - 089- Provincial Matters.mp3\n"
     ]
    },
    {
     "name": "stderr",
     "output_type": "stream",
     "text": [
      "20100405 - 089- Provincial Matters.mp3: 100%|██████████| 20.0M/20.0M [00:03<00:00, 5.32MB/s]\n"
     ]
    },
    {
     "name": "stdout",
     "output_type": "stream",
     "text": [
      "✓ Downloaded: 20100405 - 089- Provincial Matters.mp3\n",
      "\n",
      "[100/192] Downloading: 20100412 - 090- The Hundredth Episode.mp3\n"
     ]
    },
    {
     "name": "stderr",
     "output_type": "stream",
     "text": [
      "20100412 - 090- The Hundredth Episode.mp3: 100%|██████████| 15.7M/15.7M [00:02<00:00, 5.73MB/s]\n"
     ]
    },
    {
     "name": "stdout",
     "output_type": "stream",
     "text": [
      "✓ Downloaded: 20100412 - 090- The Hundredth Episode.mp3\n",
      "\n",
      "[101/192] Downloading: 20100419 - 091- Marcus and Lucius and the Parthians.mp3\n"
     ]
    },
    {
     "name": "stderr",
     "output_type": "stream",
     "text": [
      "20100419 - 091- Marcus and Lucius and the Parthian: 100%|██████████| 11.0M/11.0M [00:01<00:00, 7.37MB/s]\n"
     ]
    },
    {
     "name": "stdout",
     "output_type": "stream",
     "text": [
      "✓ Downloaded: 20100419 - 091- Marcus and Lucius and the Parthians.mp3\n",
      "\n",
      "[102/192] Downloading: 20100426 - 092- The Parthian War.mp3\n"
     ]
    },
    {
     "name": "stderr",
     "output_type": "stream",
     "text": [
      "20100426 - 092- The Parthian War.mp3: 100%|██████████| 11.3M/11.3M [00:07<00:00, 1.59MB/s]\n"
     ]
    },
    {
     "name": "stdout",
     "output_type": "stream",
     "text": [
      "✓ Downloaded: 20100426 - 092- The Parthian War.mp3\n",
      "\n",
      "[103/192] Downloading: 20100510 - 093- The Marcomannic Wars.mp3\n"
     ]
    },
    {
     "name": "stderr",
     "output_type": "stream",
     "text": [
      "20100510 - 093- The Marcomannic Wars.mp3: 100%|██████████| 11.4M/11.4M [00:02<00:00, 4.11MB/s]\n"
     ]
    },
    {
     "name": "stdout",
     "output_type": "stream",
     "text": [
      "✓ Downloaded: 20100510 - 093- The Marcomannic Wars.mp3\n",
      "\n",
      "[104/192] Downloading: 20100517 - 094- Revolt and Meditations.mp3\n"
     ]
    },
    {
     "name": "stderr",
     "output_type": "stream",
     "text": [
      "20100517 - 094- Revolt and Meditations.mp3: 100%|██████████| 11.8M/11.8M [00:01<00:00, 7.37MB/s]\n"
     ]
    },
    {
     "name": "stdout",
     "output_type": "stream",
     "text": [
      "✓ Downloaded: 20100517 - 094- Revolt and Meditations.mp3\n",
      "\n",
      "[105/192] Downloading: 20100524 - 095- The Beginning of the End.mp3\n"
     ]
    },
    {
     "name": "stderr",
     "output_type": "stream",
     "text": [
      "20100524 - 095- The Beginning of the End.mp3: 100%|██████████| 11.4M/11.4M [00:01<00:00, 9.12MB/s]\n"
     ]
    },
    {
     "name": "stdout",
     "output_type": "stream",
     "text": [
      "✓ Downloaded: 20100524 - 095- The Beginning of the End.mp3\n",
      "\n",
      "[106/192] Downloading: 20100531 - 096- The Most Aptly Named Emperor.mp3\n"
     ]
    },
    {
     "name": "stderr",
     "output_type": "stream",
     "text": [
      "20100531 - 096- The Most Aptly Named Emperor.mp3: 100%|██████████| 12.1M/12.1M [00:02<00:00, 4.32MB/s]\n"
     ]
    },
    {
     "name": "stdout",
     "output_type": "stream",
     "text": [
      "✓ Downloaded: 20100531 - 096- The Most Aptly Named Emperor.mp3\n",
      "\n",
      "[107/192] Downloading: 20100607 - 097- The Fall of Hercules.mp3\n"
     ]
    },
    {
     "name": "stderr",
     "output_type": "stream",
     "text": [
      "20100607 - 097- The Fall of Hercules.mp3: 100%|██████████| 13.3M/13.3M [00:03<00:00, 3.54MB/s]\n"
     ]
    },
    {
     "name": "stdout",
     "output_type": "stream",
     "text": [
      "✓ Downloaded: 20100607 - 097- The Fall of Hercules.mp3\n",
      "\n",
      "[108/192] Downloading: 20100614 - 098- Purchasing Power.mp3\n"
     ]
    },
    {
     "name": "stderr",
     "output_type": "stream",
     "text": [
      "20100614 - 098- Purchasing Power.mp3: 100%|██████████| 10.5M/10.5M [00:01<00:00, 5.86MB/s]\n"
     ]
    },
    {
     "name": "stdout",
     "output_type": "stream",
     "text": [
      "✓ Downloaded: 20100614 - 098- Purchasing Power.mp3\n",
      "\n",
      "[109/192] Downloading: 20100621 - 099- What Evil Have I Done_.mp3\n"
     ]
    },
    {
     "name": "stderr",
     "output_type": "stream",
     "text": [
      "20100621 - 099- What Evil Have I Done_.mp3: 100%|██████████| 11.8M/11.8M [00:01<00:00, 7.32MB/s]\n"
     ]
    },
    {
     "name": "stdout",
     "output_type": "stream",
     "text": [
      "✓ Downloaded: 20100621 - 099- What Evil Have I Done_.mp3\n",
      "\n",
      "[110/192] Downloading: 20100627 - 100- Black and White and Severus All Over.mp3\n"
     ]
    },
    {
     "name": "stderr",
     "output_type": "stream",
     "text": [
      "20100627 - 100- Black and White and Severus All Ov: 100%|██████████| 11.2M/11.2M [00:01<00:00, 7.26MB/s]\n"
     ]
    },
    {
     "name": "stdout",
     "output_type": "stream",
     "text": [
      "✓ Downloaded: 20100627 - 100- Black and White and Severus All Over.mp3\n",
      "\n",
      "[111/192] Downloading: 20100719 - 101- And All Was of Little Value.mp3\n"
     ]
    },
    {
     "name": "stderr",
     "output_type": "stream",
     "text": [
      "20100719 - 101- And All Was of Little Value.mp3: 100%|██████████| 11.6M/11.6M [00:02<00:00, 5.68MB/s]\n"
     ]
    },
    {
     "name": "stdout",
     "output_type": "stream",
     "text": [
      "✓ Downloaded: 20100719 - 101- And All Was of Little Value.mp3\n",
      "\n",
      "[112/192] Downloading: 20100726 - 102- The Common Enemy of Mankind.mp3\n"
     ]
    },
    {
     "name": "stderr",
     "output_type": "stream",
     "text": [
      "20100726 - 102- The Common Enemy of Mankind.mp3: 100%|██████████| 10.9M/10.9M [00:02<00:00, 3.99MB/s]\n"
     ]
    },
    {
     "name": "stdout",
     "output_type": "stream",
     "text": [
      "✓ Downloaded: 20100726 - 102- The Common Enemy of Mankind.mp3\n",
      "\n",
      "[113/192] Downloading: 20100802 - 103- The Equestrian.mp3\n"
     ]
    },
    {
     "name": "stderr",
     "output_type": "stream",
     "text": [
      "20100802 - 103- The Equestrian.mp3: 100%|██████████| 12.1M/12.1M [00:04<00:00, 2.65MB/s]\n"
     ]
    },
    {
     "name": "stdout",
     "output_type": "stream",
     "text": [
      "✓ Downloaded: 20100802 - 103- The Equestrian.mp3\n",
      "\n",
      "[114/192] Downloading: 20100809 - 104- Here Comes the Sun.mp3\n"
     ]
    },
    {
     "name": "stderr",
     "output_type": "stream",
     "text": [
      "20100809 - 104- Here Comes the Sun.mp3: 100%|██████████| 13.2M/13.2M [00:01<00:00, 7.27MB/s]\n"
     ]
    },
    {
     "name": "stdout",
     "output_type": "stream",
     "text": [
      "✓ Downloaded: 20100809 - 104- Here Comes the Sun.mp3\n",
      "\n",
      "[115/192] Downloading: 20100816 - 105- The Last Princeps.mp3\n"
     ]
    },
    {
     "name": "stderr",
     "output_type": "stream",
     "text": [
      "20100816 - 105- The Last Princeps.mp3: 100%|██████████| 11.7M/11.7M [00:01<00:00, 10.0MB/s]\n"
     ]
    },
    {
     "name": "stdout",
     "output_type": "stream",
     "text": [
      "✓ Downloaded: 20100816 - 105- The Last Princeps.mp3\n",
      "\n",
      "[116/192] Downloading: 20100823 - 106- Barbarian at the Gate.mp3\n"
     ]
    },
    {
     "name": "stderr",
     "output_type": "stream",
     "text": [
      "20100823 - 106- Barbarian at the Gate.mp3: 100%|██████████| 13.6M/13.6M [00:01<00:00, 9.48MB/s]\n"
     ]
    },
    {
     "name": "stdout",
     "output_type": "stream",
     "text": [
      "✓ Downloaded: 20100823 - 106- Barbarian at the Gate.mp3\n",
      "\n",
      "[117/192] Downloading: 20100830 - 107- The Year of the Six Emperors.mp3\n"
     ]
    },
    {
     "name": "stderr",
     "output_type": "stream",
     "text": [
      "20100830 - 107- The Year of the Six Emperors.mp3: 100%|██████████| 11.3M/11.3M [00:02<00:00, 5.46MB/s]\n"
     ]
    },
    {
     "name": "stdout",
     "output_type": "stream",
     "text": [
      "✓ Downloaded: 20100830 - 107- The Year of the Six Emperors.mp3\n",
      "\n",
      "[118/192] Downloading: 20100913 - 108- Gordian's Knot.mp3\n"
     ]
    },
    {
     "name": "stderr",
     "output_type": "stream",
     "text": [
      "20100913 - 108- Gordian's Knot.mp3: 100%|██████████| 12.0M/12.0M [00:01<00:00, 9.56MB/s]\n"
     ]
    },
    {
     "name": "stdout",
     "output_type": "stream",
     "text": [
      "✓ Downloaded: 20100913 - 108- Gordian's Knot.mp3\n",
      "\n",
      "[119/192] Downloading: 20100920 - 109- The New Millenium.mp3\n"
     ]
    },
    {
     "name": "stderr",
     "output_type": "stream",
     "text": [
      "20100920 - 109- The New Millenium.mp3: 100%|██████████| 11.7M/11.7M [00:02<00:00, 5.74MB/s]\n"
     ]
    },
    {
     "name": "stdout",
     "output_type": "stream",
     "text": [
      "✓ Downloaded: 20100920 - 109- The New Millenium.mp3\n",
      "\n",
      "[120/192] Downloading: 20100927 - 110- A Gothic Horror.mp3\n"
     ]
    },
    {
     "name": "stderr",
     "output_type": "stream",
     "text": [
      "20100927 - 110- A Gothic Horror.mp3: 100%|██████████| 11.6M/11.6M [00:01<00:00, 7.94MB/s]\n"
     ]
    },
    {
     "name": "stdout",
     "output_type": "stream",
     "text": [
      "✓ Downloaded: 20100927 - 110- A Gothic Horror.mp3\n",
      "\n",
      "[121/192] Downloading: 20101004 - 111- Phase One Complete.mp3\n"
     ]
    },
    {
     "name": "stderr",
     "output_type": "stream",
     "text": [
      "20101004 - 111- Phase One Complete.mp3: 100%|██████████| 12.9M/12.9M [00:01<00:00, 7.04MB/s]\n"
     ]
    },
    {
     "name": "stdout",
     "output_type": "stream",
     "text": [
      "✓ Downloaded: 20101004 - 111- Phase One Complete.mp3\n",
      "\n",
      "[122/192] Downloading: 20101018 - 112- Captured Alive.mp3\n"
     ]
    },
    {
     "name": "stderr",
     "output_type": "stream",
     "text": [
      "20101018 - 112- Captured Alive.mp3: 100%|██████████| 12.3M/12.3M [00:06<00:00, 2.09MB/s]\n"
     ]
    },
    {
     "name": "stdout",
     "output_type": "stream",
     "text": [
      "✓ Downloaded: 20101018 - 112- Captured Alive.mp3\n",
      "\n",
      "[123/192] Downloading: 20101024 - 113- Three Empires.mp3\n"
     ]
    },
    {
     "name": "stderr",
     "output_type": "stream",
     "text": [
      "20101024 - 113- Three Empires.mp3: 100%|██████████| 12.2M/12.2M [00:16<00:00, 761kB/s] \n"
     ]
    },
    {
     "name": "stdout",
     "output_type": "stream",
     "text": [
      "✓ Downloaded: 20101024 - 113- Three Empires.mp3\n",
      "\n",
      "[124/192] Downloading: 20101101 - 114- The Nadir of Our Fortunes.mp3\n"
     ]
    },
    {
     "name": "stderr",
     "output_type": "stream",
     "text": [
      "20101101 - 114- The Nadir of Our Fortunes.mp3: 100%|██████████| 12.9M/12.9M [00:03<00:00, 4.45MB/s]\n"
     ]
    },
    {
     "name": "stdout",
     "output_type": "stream",
     "text": [
      "✓ Downloaded: 20101101 - 114- The Nadir of Our Fortunes.mp3\n",
      "\n",
      "[125/192] Downloading: 20101108 - 115- Phase Two Complete.mp3\n"
     ]
    },
    {
     "name": "stderr",
     "output_type": "stream",
     "text": [
      "20101108 - 115- Phase Two Complete.mp3: 100%|██████████| 12.0M/12.0M [00:01<00:00, 10.2MB/s]\n"
     ]
    },
    {
     "name": "stdout",
     "output_type": "stream",
     "text": [
      "✓ Downloaded: 20101108 - 115- Phase Two Complete.mp3\n",
      "\n",
      "[126/192] Downloading: 20101122 - 116- Here Come the Illyrians.mp3\n"
     ]
    },
    {
     "name": "stderr",
     "output_type": "stream",
     "text": [
      "20101122 - 116- Here Come the Illyrians.mp3: 100%|██████████| 11.4M/11.4M [00:02<00:00, 5.07MB/s]\n"
     ]
    },
    {
     "name": "stdout",
     "output_type": "stream",
     "text": [
      "✓ Downloaded: 20101122 - 116- Here Come the Illyrians.mp3\n",
      "\n",
      "[127/192] Downloading: 20101129 - 117- Aurelian's Walls.mp3\n"
     ]
    },
    {
     "name": "stderr",
     "output_type": "stream",
     "text": [
      "20101129 - 117- Aurelian's Walls.mp3: 100%|██████████| 12.1M/12.1M [00:04<00:00, 2.95MB/s]\n"
     ]
    },
    {
     "name": "stdout",
     "output_type": "stream",
     "text": [
      "✓ Downloaded: 20101129 - 117- Aurelian's Walls.mp3\n",
      "\n",
      "[128/192] Downloading: 20101206 - 118- The Palmyrene Wars.mp3\n"
     ]
    },
    {
     "name": "stderr",
     "output_type": "stream",
     "text": [
      "20101206 - 118- The Palmyrene Wars.mp3: 100%|██████████| 13.4M/13.4M [00:01<00:00, 7.21MB/s]\n"
     ]
    },
    {
     "name": "stdout",
     "output_type": "stream",
     "text": [
      "✓ Downloaded: 20101206 - 118- The Palmyrene Wars.mp3\n",
      "\n",
      "[129/192] Downloading: 20101213 - 119- Restitutor Orbis.mp3\n"
     ]
    },
    {
     "name": "stderr",
     "output_type": "stream",
     "text": [
      "20101213 - 119- Restitutor Orbis.mp3: 100%|██████████| 12.0M/12.0M [00:01<00:00, 7.82MB/s]\n"
     ]
    },
    {
     "name": "stdout",
     "output_type": "stream",
     "text": [
      "✓ Downloaded: 20101213 - 119- Restitutor Orbis.mp3\n",
      "\n",
      "[130/192] Downloading: 20101220 - 120- Interregnum.mp3\n"
     ]
    },
    {
     "name": "stderr",
     "output_type": "stream",
     "text": [
      "20101220 - 120- Interregnum.mp3: 100%|██████████| 12.2M/12.2M [00:01<00:00, 7.03MB/s]\n"
     ]
    },
    {
     "name": "stdout",
     "output_type": "stream",
     "text": [
      "✓ Downloaded: 20101220 - 120- Interregnum.mp3\n",
      "\n",
      "[131/192] Downloading: 20110110 - 121- Phase Three Complete.mp3\n"
     ]
    },
    {
     "name": "stderr",
     "output_type": "stream",
     "text": [
      "20110110 - 121- Phase Three Complete.mp3: 100%|██████████| 11.7M/11.7M [00:01<00:00, 8.50MB/s]\n"
     ]
    },
    {
     "name": "stdout",
     "output_type": "stream",
     "text": [
      "✓ Downloaded: 20110110 - 121- Phase Three Complete.mp3\n",
      "\n",
      "[132/192] Downloading: 20110116 - 122- Jupiter and Hercules.mp3\n"
     ]
    },
    {
     "name": "stderr",
     "output_type": "stream",
     "text": [
      "20110116 - 122- Jupiter and Hercules.mp3: 100%|██████████| 11.8M/11.8M [00:01<00:00, 8.34MB/s]\n"
     ]
    },
    {
     "name": "stdout",
     "output_type": "stream",
     "text": [
      "✓ Downloaded: 20110116 - 122- Jupiter and Hercules.mp3\n",
      "\n",
      "[133/192] Downloading: 20110124 - 123- The Tertrarchy.mp3\n"
     ]
    },
    {
     "name": "stderr",
     "output_type": "stream",
     "text": [
      "20110124 - 123- The Tertrarchy.mp3: 100%|██████████| 11.2M/11.2M [00:01<00:00, 7.41MB/s]\n"
     ]
    },
    {
     "name": "stdout",
     "output_type": "stream",
     "text": [
      "✓ Downloaded: 20110124 - 123- The Tertrarchy.mp3\n",
      "\n",
      "[134/192] Downloading: 20110131 - 124- The Tetrarchs at War.mp3\n"
     ]
    },
    {
     "name": "stderr",
     "output_type": "stream",
     "text": [
      "20110131 - 124- The Tetrarchs at War.mp3: 100%|██████████| 11.8M/11.8M [00:01<00:00, 7.65MB/s]\n"
     ]
    },
    {
     "name": "stdout",
     "output_type": "stream",
     "text": [
      "✓ Downloaded: 20110131 - 124- The Tetrarchs at War.mp3\n",
      "\n",
      "[135/192] Downloading: 20110207 - 125- The Best Defence is a Good Defence.mp3\n"
     ]
    },
    {
     "name": "stderr",
     "output_type": "stream",
     "text": [
      "20110207 - 125- The Best Defence is a Good Defence: 100%|██████████| 12.2M/12.2M [00:01<00:00, 7.75MB/s]\n"
     ]
    },
    {
     "name": "stdout",
     "output_type": "stream",
     "text": [
      "✓ Downloaded: 20110207 - 125- The Best Defence is a Good Defence.mp3\n",
      "\n",
      "[136/192] Downloading: 20110214 - 126- All The King's Men.mp3\n"
     ]
    },
    {
     "name": "stderr",
     "output_type": "stream",
     "text": [
      "20110214 - 126- All The King's Men.mp3: 100%|██████████| 12.8M/12.8M [00:01<00:00, 8.50MB/s]\n"
     ]
    },
    {
     "name": "stdout",
     "output_type": "stream",
     "text": [
      "✓ Downloaded: 20110214 - 126- All The King's Men.mp3\n",
      "\n",
      "[137/192] Downloading: 20110221 - 127- Commanding The Economy.mp3\n"
     ]
    },
    {
     "name": "stderr",
     "output_type": "stream",
     "text": [
      "20110221 - 127- Commanding The Economy.mp3: 100%|██████████| 13.0M/13.0M [00:03<00:00, 3.76MB/s]\n"
     ]
    },
    {
     "name": "stdout",
     "output_type": "stream",
     "text": [
      "✓ Downloaded: 20110221 - 127- Commanding The Economy.mp3\n",
      "\n",
      "[138/192] Downloading: 20110228 - 128- The Great Persecution.mp3\n"
     ]
    },
    {
     "name": "stderr",
     "output_type": "stream",
     "text": [
      "20110228 - 128- The Great Persecution.mp3: 100%|██████████| 12.9M/12.9M [00:02<00:00, 4.82MB/s]\n"
     ]
    },
    {
     "name": "stdout",
     "output_type": "stream",
     "text": [
      "✓ Downloaded: 20110228 - 128- The Great Persecution.mp3\n",
      "\n",
      "[139/192] Downloading: 20110307 - 129- Abdication.mp3\n"
     ]
    },
    {
     "name": "stderr",
     "output_type": "stream",
     "text": [
      "20110307 - 129- Abdication.mp3: 100%|██████████| 12.5M/12.5M [00:01<00:00, 6.77MB/s]\n"
     ]
    },
    {
     "name": "stdout",
     "output_type": "stream",
     "text": [
      "✓ Downloaded: 20110307 - 129- Abdication.mp3\n",
      "\n",
      "[140/192] Downloading: 20110314 - 130- Lost in Transition.mp3\n"
     ]
    },
    {
     "name": "stderr",
     "output_type": "stream",
     "text": [
      "20110314 - 130- Lost in Transition.mp3: 100%|██████████| 13.1M/13.1M [00:01<00:00, 8.48MB/s]\n"
     ]
    },
    {
     "name": "stdout",
     "output_type": "stream",
     "text": [
      "✓ Downloaded: 20110314 - 130- Lost in Transition.mp3\n",
      "\n",
      "[141/192] Downloading: 20110328 - 131- The New Game in Town.mp3\n"
     ]
    },
    {
     "name": "stderr",
     "output_type": "stream",
     "text": [
      "20110328 - 131- The New Game in Town.mp3: 100%|██████████| 12.3M/12.3M [00:07<00:00, 1.62MB/s]\n"
     ]
    },
    {
     "name": "stdout",
     "output_type": "stream",
     "text": [
      "✓ Downloaded: 20110328 - 131- The New Game in Town.mp3\n",
      "\n",
      "[142/192] Downloading: 20110404 - 132- In This Sign.mp3\n"
     ]
    },
    {
     "name": "stderr",
     "output_type": "stream",
     "text": [
      "20110404 - 132- In This Sign.mp3: 100%|██████████| 12.3M/12.3M [00:01<00:00, 7.20MB/s]\n"
     ]
    },
    {
     "name": "stdout",
     "output_type": "stream",
     "text": [
      "✓ Downloaded: 20110404 - 132- In This Sign.mp3\n",
      "\n",
      "[143/192] Downloading: 20110411 - 133- The Milvian Bridge.mp3\n"
     ]
    },
    {
     "name": "stderr",
     "output_type": "stream",
     "text": [
      "20110411 - 133- The Milvian Bridge.mp3: 100%|██████████| 11.6M/11.6M [00:01<00:00, 10.5MB/s]\n"
     ]
    },
    {
     "name": "stdout",
     "output_type": "stream",
     "text": [
      "✓ Downloaded: 20110411 - 133- The Milvian Bridge.mp3\n",
      "\n",
      "[144/192] Downloading: 20110418 - 134- And Then There Were Two.mp3\n"
     ]
    },
    {
     "name": "stderr",
     "output_type": "stream",
     "text": [
      "20110418 - 134- And Then There Were Two.mp3: 100%|██████████| 10.9M/10.9M [00:01<00:00, 7.10MB/s]\n"
     ]
    },
    {
     "name": "stdout",
     "output_type": "stream",
     "text": [
      "✓ Downloaded: 20110418 - 134- And Then There Were Two.mp3\n",
      "\n",
      "[145/192] Downloading: 20110425 - 135- Brothers in Name Only.mp3\n"
     ]
    },
    {
     "name": "stderr",
     "output_type": "stream",
     "text": [
      "20110425 - 135- Brothers in Name Only.mp3: 100%|██████████| 12.4M/12.4M [00:03<00:00, 3.72MB/s]\n"
     ]
    },
    {
     "name": "stdout",
     "output_type": "stream",
     "text": [
      "✓ Downloaded: 20110425 - 135- Brothers in Name Only.mp3\n",
      "\n",
      "[146/192] Downloading: 20110501 - 136- Let This Be Our Final Battle.mp3\n"
     ]
    },
    {
     "name": "stderr",
     "output_type": "stream",
     "text": [
      "20110501 - 136- Let This Be Our Final Battle.mp3: 100%|██████████| 10.8M/10.8M [00:02<00:00, 4.69MB/s]\n"
     ]
    },
    {
     "name": "stdout",
     "output_type": "stream",
     "text": [
      "✓ Downloaded: 20110501 - 136- Let This Be Our Final Battle.mp3\n",
      "\n",
      "[147/192] Downloading: 20110515 - 137- The Christian Emperor.mp3\n"
     ]
    },
    {
     "name": "stderr",
     "output_type": "stream",
     "text": [
      "20110515 - 137- The Christian Emperor.mp3: 100%|██████████| 10.6M/10.6M [00:01<00:00, 8.91MB/s]\n"
     ]
    },
    {
     "name": "stdout",
     "output_type": "stream",
     "text": [
      "✓ Downloaded: 20110515 - 137- The Christian Emperor.mp3\n",
      "\n",
      "[148/192] Downloading: 20110530 - 138- The New Rome.mp3\n"
     ]
    },
    {
     "name": "stderr",
     "output_type": "stream",
     "text": [
      "20110530 - 138- The New Rome.mp3: 100%|██████████| 12.5M/12.5M [00:01<00:00, 8.93MB/s]\n"
     ]
    },
    {
     "name": "stdout",
     "output_type": "stream",
     "text": [
      "✓ Downloaded: 20110530 - 138- The New Rome.mp3\n",
      "\n",
      "[149/192] Downloading: 20110613 - 139- Wash Away Your Sins.mp3\n"
     ]
    },
    {
     "name": "stderr",
     "output_type": "stream",
     "text": [
      "20110613 - 139- Wash Away Your Sins.mp3: 100%|██████████| 10.7M/10.7M [00:01<00:00, 6.56MB/s]\n"
     ]
    },
    {
     "name": "stdout",
     "output_type": "stream",
     "text": [
      "✓ Downloaded: 20110613 - 139- Wash Away Your Sins.mp3\n",
      "\n",
      "[150/192] Downloading: 20110620 - 140- My Three Sons.mp3\n"
     ]
    },
    {
     "name": "stderr",
     "output_type": "stream",
     "text": [
      "20110620 - 140- My Three Sons.mp3: 100%|██████████| 11.0M/11.0M [00:01<00:00, 6.80MB/s]\n"
     ]
    },
    {
     "name": "stdout",
     "output_type": "stream",
     "text": [
      "✓ Downloaded: 20110620 - 140- My Three Sons.mp3\n",
      "\n",
      "[151/192] Downloading: 20110627 - 141- Blood and Water.mp3\n"
     ]
    },
    {
     "name": "stderr",
     "output_type": "stream",
     "text": [
      "20110627 - 141- Blood and Water.mp3: 100%|██████████| 12.5M/12.5M [00:02<00:00, 6.33MB/s]\n"
     ]
    },
    {
     "name": "stdout",
     "output_type": "stream",
     "text": [
      "✓ Downloaded: 20110627 - 141- Blood and Water.mp3\n",
      "\n",
      "[152/192] Downloading: 20110704 - 142- You've Earned It.mp3\n"
     ]
    },
    {
     "name": "stderr",
     "output_type": "stream",
     "text": [
      "20110704 - 142- You've Earned It.mp3: 100%|██████████| 11.8M/11.8M [00:03<00:00, 3.80MB/s]\n"
     ]
    },
    {
     "name": "stdout",
     "output_type": "stream",
     "text": [
      "✓ Downloaded: 20110704 - 142- You've Earned It.mp3\n",
      "\n",
      "[153/192] Downloading: 20110710 - 143- Julian the Pre-Apostate.mp3\n"
     ]
    },
    {
     "name": "stderr",
     "output_type": "stream",
     "text": [
      "20110710 - 143- Julian the Pre-Apostate.mp3: 100%|██████████| 11.9M/11.9M [00:01<00:00, 9.62MB/s]\n"
     ]
    },
    {
     "name": "stdout",
     "output_type": "stream",
     "text": [
      "✓ Downloaded: 20110710 - 143- Julian the Pre-Apostate.mp3\n",
      "\n",
      "[154/192] Downloading: 20110725 - 144- The Road to Constantinople .mp3\n"
     ]
    },
    {
     "name": "stderr",
     "output_type": "stream",
     "text": [
      "20110725 - 144- The Road to Constantinople .mp3: 100%|██████████| 12.2M/12.2M [00:02<00:00, 5.03MB/s]\n"
     ]
    },
    {
     "name": "stdout",
     "output_type": "stream",
     "text": [
      "✓ Downloaded: 20110725 - 144- The Road to Constantinople .mp3\n",
      "\n",
      "[155/192] Downloading: 20110731 - 145- Julian the Apostate.mp3\n"
     ]
    },
    {
     "name": "stderr",
     "output_type": "stream",
     "text": [
      "20110731 - 145- Julian the Apostate.mp3: 100%|██████████| 12.6M/12.6M [00:02<00:00, 5.58MB/s]\n"
     ]
    },
    {
     "name": "stdout",
     "output_type": "stream",
     "text": [
      "✓ Downloaded: 20110731 - 145- Julian the Apostate.mp3\n",
      "\n",
      "[156/192] Downloading: 20110808 - 146- The Spear of Destiny.mp3\n"
     ]
    },
    {
     "name": "stderr",
     "output_type": "stream",
     "text": [
      "20110808 - 146- The Spear of Destiny.mp3: 100%|██████████| 11.7M/11.7M [00:02<00:00, 4.28MB/s]\n"
     ]
    },
    {
     "name": "stdout",
     "output_type": "stream",
     "text": [
      "✓ Downloaded: 20110808 - 146- The Spear of Destiny.mp3\n",
      "\n",
      "[157/192] Downloading: 20110815 - 147- Capitulation.mp3\n"
     ]
    },
    {
     "name": "stderr",
     "output_type": "stream",
     "text": [
      "20110815 - 147- Capitulation.mp3: 100%|██████████| 11.5M/11.5M [00:01<00:00, 8.99MB/s]\n"
     ]
    },
    {
     "name": "stdout",
     "output_type": "stream",
     "text": [
      "✓ Downloaded: 20110815 - 147- Capitulation.mp3\n",
      "\n",
      "[158/192] Downloading: 20110822 - 148- The Cousin's Cousin.mp3\n"
     ]
    },
    {
     "name": "stderr",
     "output_type": "stream",
     "text": [
      "20110822 - 148- The Cousin's Cousin.mp3: 100%|██████████| 12.3M/12.3M [00:01<00:00, 8.11MB/s]\n"
     ]
    },
    {
     "name": "stdout",
     "output_type": "stream",
     "text": [
      "✓ Downloaded: 20110822 - 148- The Cousin's Cousin.mp3\n",
      "\n",
      "[159/192] Downloading: 20110829 - 149- The Great Conspiracy.mp3\n"
     ]
    },
    {
     "name": "stderr",
     "output_type": "stream",
     "text": [
      "20110829 - 149- The Great Conspiracy.mp3: 100%|██████████| 12.1M/12.1M [00:01<00:00, 9.66MB/s]\n"
     ]
    },
    {
     "name": "stdout",
     "output_type": "stream",
     "text": [
      "✓ Downloaded: 20110829 - 149- The Great Conspiracy.mp3\n",
      "\n",
      "[160/192] Downloading: 20110904 - 150- The Perils of Mismanagement.mp3\n"
     ]
    },
    {
     "name": "stderr",
     "output_type": "stream",
     "text": [
      "20110904 - 150- The Perils of Mismanagement.mp3: 100%|██████████| 11.3M/11.3M [00:01<00:00, 8.49MB/s]\n"
     ]
    },
    {
     "name": "stdout",
     "output_type": "stream",
     "text": [
      "✓ Downloaded: 20110904 - 150- The Perils of Mismanagement.mp3\n",
      "\n",
      "[161/192] Downloading: 20110911 - 151- Bursting a Blood Vessel.mp3\n"
     ]
    },
    {
     "name": "stderr",
     "output_type": "stream",
     "text": [
      "20110911 - 151- Bursting a Blood Vessel.mp3: 100%|██████████| 11.7M/11.7M [00:01<00:00, 7.23MB/s]\n"
     ]
    },
    {
     "name": "stdout",
     "output_type": "stream",
     "text": [
      "✓ Downloaded: 20110911 - 151- Bursting a Blood Vessel.mp3\n",
      "\n",
      "[162/192] Downloading: 20110925 - 152- The Storm Before the Storm.mp3\n"
     ]
    },
    {
     "name": "stderr",
     "output_type": "stream",
     "text": [
      "20110925 - 152- The Storm Before the Storm.mp3: 100%|██████████| 11.7M/11.7M [00:03<00:00, 3.22MB/s]\n"
     ]
    },
    {
     "name": "stdout",
     "output_type": "stream",
     "text": [
      "✓ Downloaded: 20110925 - 152- The Storm Before the Storm.mp3\n",
      "\n",
      "[163/192] Downloading: 20111002 - 153- Adrianople.mp3\n"
     ]
    },
    {
     "name": "stderr",
     "output_type": "stream",
     "text": [
      "20111002 - 153- Adrianople.mp3: 100%|██████████| 11.0M/11.0M [00:01<00:00, 6.18MB/s]\n"
     ]
    },
    {
     "name": "stdout",
     "output_type": "stream",
     "text": [
      "✓ Downloaded: 20111002 - 153- Adrianople.mp3\n",
      "\n",
      "[164/192] Downloading: 20111010 - 154- The Gothic War.mp3\n"
     ]
    },
    {
     "name": "stderr",
     "output_type": "stream",
     "text": [
      "20111010 - 154- The Gothic War.mp3: 100%|██████████| 13.7M/13.7M [00:02<00:00, 6.36MB/s]\n"
     ]
    },
    {
     "name": "stdout",
     "output_type": "stream",
     "text": [
      "✓ Downloaded: 20111010 - 154- The Gothic War.mp3\n",
      "\n",
      "[165/192] Downloading: 20111016 - 155- The New Bishop of Milan.mp3\n"
     ]
    },
    {
     "name": "stderr",
     "output_type": "stream",
     "text": [
      "20111016 - 155- The New Bishop of Milan.mp3: 100%|██████████| 12.4M/12.4M [00:01<00:00, 6.75MB/s]\n"
     ]
    },
    {
     "name": "stdout",
     "output_type": "stream",
     "text": [
      "✓ Downloaded: 20111016 - 155- The New Bishop of Milan.mp3\n",
      "\n",
      "[166/192] Downloading: 20111024 - 156- Jockeying for Position.mp3\n"
     ]
    },
    {
     "name": "stderr",
     "output_type": "stream",
     "text": [
      "20111024 - 156- Jockeying for Position.mp3: 100%|██████████| 12.7M/12.7M [00:02<00:00, 6.62MB/s]\n"
     ]
    },
    {
     "name": "stdout",
     "output_type": "stream",
     "text": [
      "✓ Downloaded: 20111024 - 156- Jockeying for Position.mp3\n",
      "\n",
      "[167/192] Downloading: 20111031 -  157- Only the Penitent Man Shall Pass.mp3\n"
     ]
    },
    {
     "name": "stderr",
     "output_type": "stream",
     "text": [
      "20111031 -  157- Only the Penitent Man Shall Pass.: 100%|██████████| 12.4M/12.4M [00:01<00:00, 9.73MB/s]\n"
     ]
    },
    {
     "name": "stdout",
     "output_type": "stream",
     "text": [
      "✓ Downloaded: 20111031 -  157- Only the Penitent Man Shall Pass.mp3\n",
      "\n",
      "[168/192] Downloading: 20111114 - 158- An Imperial Suicide.mp3\n"
     ]
    },
    {
     "name": "stderr",
     "output_type": "stream",
     "text": [
      "20111114 - 158- An Imperial Suicide.mp3: 100%|██████████| 10.2M/10.2M [00:01<00:00, 6.97MB/s]\n"
     ]
    },
    {
     "name": "stdout",
     "output_type": "stream",
     "text": [
      "✓ Downloaded: 20111114 - 158- An Imperial Suicide.mp3\n",
      "\n",
      "[169/192] Downloading: 20111121 - 159- The Divine Winds.mp3\n"
     ]
    },
    {
     "name": "stderr",
     "output_type": "stream",
     "text": [
      "20111121 - 159- The Divine Winds.mp3: 100%|██████████| 10.8M/10.8M [00:10<00:00, 1.04MB/s]\n"
     ]
    },
    {
     "name": "stdout",
     "output_type": "stream",
     "text": [
      "✓ Downloaded: 20111121 - 159- The Divine Winds.mp3\n",
      "\n",
      "[170/192] Downloading: 20111128 - 160- East vs. West.mp3\n"
     ]
    },
    {
     "name": "stderr",
     "output_type": "stream",
     "text": [
      "20111128 - 160- East vs. West.mp3: 100%|██████████| 11.3M/11.3M [00:01<00:00, 9.49MB/s]\n"
     ]
    },
    {
     "name": "stdout",
     "output_type": "stream",
     "text": [
      "✓ Downloaded: 20111128 - 160- East vs. West.mp3\n",
      "\n",
      "[171/192] Downloading: 20111205 - 161- The Swamps of Ravenna.mp3\n"
     ]
    },
    {
     "name": "stderr",
     "output_type": "stream",
     "text": [
      "20111205 - 161- The Swamps of Ravenna.mp3: 100%|██████████| 11.2M/11.2M [00:03<00:00, 3.35MB/s]\n"
     ]
    },
    {
     "name": "stdout",
     "output_type": "stream",
     "text": [
      "✓ Downloaded: 20111205 - 161- The Swamps of Ravenna.mp3\n",
      "\n",
      "[172/192] Downloading: 20111212 - 162- Opening the Floodgates.mp3\n"
     ]
    },
    {
     "name": "stderr",
     "output_type": "stream",
     "text": [
      "20111212 - 162- Opening the Floodgates.mp3: 100%|██████████| 12.9M/12.9M [00:11<00:00, 1.20MB/s]\n"
     ]
    },
    {
     "name": "stdout",
     "output_type": "stream",
     "text": [
      "✓ Downloaded: 20111212 - 162- Opening the Floodgates.mp3\n",
      "\n",
      "[173/192] Downloading: 20111218 - 163- Theodosius's Walls.mp3\n"
     ]
    },
    {
     "name": "stderr",
     "output_type": "stream",
     "text": [
      "20111218 - 163- Theodosius's Walls.mp3: 100%|██████████| 12.1M/12.1M [00:01<00:00, 9.19MB/s]\n"
     ]
    },
    {
     "name": "stdout",
     "output_type": "stream",
     "text": [
      "✓ Downloaded: 20111218 - 163- Theodosius's Walls.mp3\n",
      "\n",
      "[174/192] Downloading: 20120109 - 164- The Sack of Rome.mp3\n"
     ]
    },
    {
     "name": "stderr",
     "output_type": "stream",
     "text": [
      "20120109 - 164- The Sack of Rome.mp3: 100%|██████████| 11.9M/11.9M [00:01<00:00, 9.18MB/s]\n"
     ]
    },
    {
     "name": "stdout",
     "output_type": "stream",
     "text": [
      "✓ Downloaded: 20120109 - 164- The Sack of Rome.mp3\n",
      "\n",
      "[175/192] Downloading: 20120115 - 165- Reviving the Roman Name.mp3\n"
     ]
    },
    {
     "name": "stderr",
     "output_type": "stream",
     "text": [
      "20120115 - 165- Reviving the Roman Name.mp3: 100%|██████████| 11.8M/11.8M [00:03<00:00, 3.55MB/s]\n"
     ]
    },
    {
     "name": "stdout",
     "output_type": "stream",
     "text": [
      "✓ Downloaded: 20120115 - 165- Reviving the Roman Name.mp3\n",
      "\n",
      "[176/192] Downloading: 20120122 - 166- As Long As She's Nice To Look At.mp3\n"
     ]
    },
    {
     "name": "stderr",
     "output_type": "stream",
     "text": [
      "20120122 - 166- As Long As She's Nice To Look At.m: 100%|██████████| 12.5M/12.5M [00:02<00:00, 6.52MB/s]\n"
     ]
    },
    {
     "name": "stdout",
     "output_type": "stream",
     "text": [
      "✓ Downloaded: 20120122 - 166- As Long As She's Nice To Look At.mp3\n",
      "\n",
      "[177/192] Downloading: 20120129 - 167- Exploiting the Opportunity.mp3\n"
     ]
    },
    {
     "name": "stderr",
     "output_type": "stream",
     "text": [
      "20120129 - 167- Exploiting the Opportunity.mp3: 100%|██████████| 11.7M/11.7M [00:02<00:00, 4.60MB/s]\n"
     ]
    },
    {
     "name": "stdout",
     "output_type": "stream",
     "text": [
      "✓ Downloaded: 20120129 - 167- Exploiting the Opportunity.mp3\n",
      "\n",
      "[178/192] Downloading: 20120205 - 168- The Rise of Aetius.mp3\n"
     ]
    },
    {
     "name": "stderr",
     "output_type": "stream",
     "text": [
      "20120205 - 168- The Rise of Aetius.mp3: 100%|██████████| 11.4M/11.4M [00:01<00:00, 9.84MB/s]\n"
     ]
    },
    {
     "name": "stdout",
     "output_type": "stream",
     "text": [
      "✓ Downloaded: 20120205 - 168- The Rise of Aetius.mp3\n",
      "\n",
      "[179/192] Downloading: 20120212 - 169- Huns and Vandals and Goths, Oh My.mp3\n"
     ]
    },
    {
     "name": "stderr",
     "output_type": "stream",
     "text": [
      "20120212 - 169- Huns and Vandals and Goths, Oh My.: 100%|██████████| 11.3M/11.3M [00:01<00:00, 7.06MB/s]\n"
     ]
    },
    {
     "name": "stdout",
     "output_type": "stream",
     "text": [
      "✓ Downloaded: 20120212 - 169- Huns and Vandals and Goths, Oh My.mp3\n",
      "\n",
      "[180/192] Downloading: 20120219 - 170- Atilla Cometh.mp3\n"
     ]
    },
    {
     "name": "stderr",
     "output_type": "stream",
     "text": [
      "20120219 - 170- Atilla Cometh.mp3: 100%|██████████| 11.2M/11.2M [00:01<00:00, 7.47MB/s]\n"
     ]
    },
    {
     "name": "stdout",
     "output_type": "stream",
     "text": [
      "✓ Downloaded: 20120219 - 170- Atilla Cometh.mp3\n",
      "\n",
      "[181/192] Downloading: 20120311 - 171- The Gathering Storm.mp3\n"
     ]
    },
    {
     "name": "stderr",
     "output_type": "stream",
     "text": [
      "20120311 - 171- The Gathering Storm.mp3: 100%|██████████| 8.30M/8.30M [00:01<00:00, 4.45MB/s]\n"
     ]
    },
    {
     "name": "stdout",
     "output_type": "stream",
     "text": [
      "✓ Downloaded: 20120311 - 171- The Gathering Storm.mp3\n",
      "\n",
      "[182/192] Downloading: 20120319 - 172- Showdown.mp3\n"
     ]
    },
    {
     "name": "stderr",
     "output_type": "stream",
     "text": [
      "20120319 - 172- Showdown.mp3: 100%|██████████| 11.7M/11.7M [00:01<00:00, 7.77MB/s]\n"
     ]
    },
    {
     "name": "stdout",
     "output_type": "stream",
     "text": [
      "✓ Downloaded: 20120319 - 172- Showdown.mp3\n",
      "\n",
      "[183/192] Downloading: 20120325 - 173- The Broken Bow.mp3\n"
     ]
    },
    {
     "name": "stderr",
     "output_type": "stream",
     "text": [
      "20120325 - 173- The Broken Bow.mp3: 100%|██████████| 13.2M/13.2M [00:02<00:00, 6.46MB/s]\n"
     ]
    },
    {
     "name": "stdout",
     "output_type": "stream",
     "text": [
      "✓ Downloaded: 20120325 - 173- The Broken Bow.mp3\n",
      "\n",
      "[184/192] Downloading: 20120402 - 174- The Sack of Rome Part II.mp3\n"
     ]
    },
    {
     "name": "stderr",
     "output_type": "stream",
     "text": [
      "20120402 - 174- The Sack of Rome Part II.mp3: 100%|██████████| 11.1M/11.1M [00:02<00:00, 5.07MB/s]\n"
     ]
    },
    {
     "name": "stdout",
     "output_type": "stream",
     "text": [
      "✓ Downloaded: 20120402 - 174- The Sack of Rome Part II.mp3\n",
      "\n",
      "[185/192] Downloading: 20120409 - 175- Trying to Take It All Back.mp3\n"
     ]
    },
    {
     "name": "stderr",
     "output_type": "stream",
     "text": [
      "20120409 - 175- Trying to Take It All Back.mp3: 100%|██████████| 11.4M/11.4M [00:07<00:00, 1.49MB/s]\n"
     ]
    },
    {
     "name": "stdout",
     "output_type": "stream",
     "text": [
      "✓ Downloaded: 20120409 - 175- Trying to Take It All Back.mp3\n",
      "\n",
      "[186/192] Downloading: 20120416 - 176- The Quote Unquote Emperor.mp3\n"
     ]
    },
    {
     "name": "stderr",
     "output_type": "stream",
     "text": [
      "20120416 - 176- The Quote Unquote Emperor.mp3: 100%|██████████| 11.4M/11.4M [00:03<00:00, 3.27MB/s]\n"
     ]
    },
    {
     "name": "stdout",
     "output_type": "stream",
     "text": [
      "✓ Downloaded: 20120416 - 176- The Quote Unquote Emperor.mp3\n",
      "\n",
      "[187/192] Downloading: 20120422 - 177- The Burning Ships.mp3\n"
     ]
    },
    {
     "name": "stderr",
     "output_type": "stream",
     "text": [
      "20120422 - 177- The Burning Ships.mp3: 100%|██████████| 12.2M/12.2M [00:03<00:00, 3.69MB/s]\n"
     ]
    },
    {
     "name": "stdout",
     "output_type": "stream",
     "text": [
      "✓ Downloaded: 20120422 - 177- The Burning Ships.mp3\n",
      "\n",
      "[188/192] Downloading: 20120430 - 178- Not With A Bang But A Whimper.mp3\n"
     ]
    },
    {
     "name": "stderr",
     "output_type": "stream",
     "text": [
      "20120430 - 178- Not With A Bang But A Whimper.mp3: 100%|██████████| 13.0M/13.0M [00:02<00:00, 4.63MB/s]\n"
     ]
    },
    {
     "name": "stdout",
     "output_type": "stream",
     "text": [
      "✓ Downloaded: 20120430 - 178- Not With A Bang But A Whimper.mp3\n",
      "\n",
      "[189/192] Downloading: 20120506 - 179- The End.mp3\n"
     ]
    },
    {
     "name": "stderr",
     "output_type": "stream",
     "text": [
      "20120506 - 179- The End.mp3: 100%|██████████| 14.3M/14.3M [00:02<00:00, 6.80MB/s]\n"
     ]
    },
    {
     "name": "stdout",
     "output_type": "stream",
     "text": [
      "✓ Downloaded: 20120506 - 179- The End.mp3\n",
      "\n",
      "[190/192] Downloading: 20130530 - Update- One Year Later.mp3\n"
     ]
    },
    {
     "name": "stderr",
     "output_type": "stream",
     "text": [
      "20130530 - Update- One Year Later.mp3: 100%|██████████| 1.52M/1.52M [00:00<00:00, 2.89MB/s]\n"
     ]
    },
    {
     "name": "stdout",
     "output_type": "stream",
     "text": [
      "✓ Downloaded: 20130530 - Update- One Year Later.mp3\n",
      "\n",
      "[191/192] Downloading: 20130916 - Revolutions Launch.mp3\n"
     ]
    },
    {
     "name": "stderr",
     "output_type": "stream",
     "text": [
      "20130916 - Revolutions Launch.mp3: 100%|██████████| 247k/247k [00:00<00:00, 828kB/s] \n"
     ]
    },
    {
     "name": "stdout",
     "output_type": "stream",
     "text": [
      "✓ Downloaded: 20130916 - Revolutions Launch.mp3\n",
      "\n",
      "[192/192] Downloading: 20170727 - The Storm Before The Storm_ Chapter 1- The Beasts of Italy.mp3\n"
     ]
    },
    {
     "name": "stderr",
     "output_type": "stream",
     "text": [
      "20170727 - The Storm Before The Storm_ Chapter 1- : 100%|██████████| 76.5M/76.5M [00:20<00:00, 3.84MB/s]\n"
     ]
    },
    {
     "name": "stdout",
     "output_type": "stream",
     "text": [
      "✓ Downloaded: 20170727 - The Storm Before The Storm_ Chapter 1- The Beasts of Italy.mp3\n",
      "\n",
      "============================================================\n",
      "Download Summary:\n",
      "✓ Successful: 192\n",
      "✗ Failed: 0\n",
      "📁 Files saved to: /home/gary/history_of_rome_epidode_search/history_of_rome_episodes\n",
      "\n",
      "Downloaded 192 MP3 files:\n",
      "  • 20070728 - 001- In the Beginning.mp3 (5.4 MB)\n",
      "  • 20100225 - 002- Youthful Indiscretions.mp3 (5.5 MB)\n",
      "  • 20100225 - 003a- The Seven Kings of Rome.mp3 (7.3 MB)\n",
      "  • 20100225 - 003b- The Seven Kings of Rome.mp3 (8.3 MB)\n",
      "  • 20100225 - 004- The Public Thing.mp3 (6.8 MB)\n",
      "  • 20100225 - 005- Trials and Tribunlations.mp3 (7.3 MB)\n",
      "  • 20100225 - 006- The Twelve Tables.mp3 (7.3 MB)\n",
      "  • 20100225 - 007- The Roman Washington.mp3 (5.6 MB)\n",
      "  • 20100225 - 008- Decades of Gloom.mp3 (7.1 MB)\n",
      "  • 20100225 - 009- A Trojan War.mp3 (6.4 MB)\n",
      "  ... and 182 more files\n"
     ]
    }
   ],
   "source": [
    "def download_file(url, filename, downloads_dir):\n",
    "    \"\"\"Download a file with progress bar and error handling\"\"\"\n",
    "    filepath = os.path.join(downloads_dir, filename)\n",
    "    \n",
    "    # Skip if file already exists\n",
    "    if os.path.exists(filepath):\n",
    "        print(f\"Skipping {filename} - already exists\")\n",
    "        return True\n",
    "    \n",
    "    try:\n",
    "        # Stream download with progress bar\n",
    "        response = requests.get(url, stream=True)\n",
    "        response.raise_for_status()\n",
    "        \n",
    "        # Get file size for progress bar\n",
    "        total_size = int(response.headers.get('content-length', 0))\n",
    "        \n",
    "        with open(filepath, 'wb') as file, tqdm(\n",
    "            desc=filename[:50],  # Truncate long filenames for display\n",
    "            total=total_size,\n",
    "            unit='B',\n",
    "            unit_scale=True,\n",
    "            unit_divisor=1024,\n",
    "        ) as pbar:\n",
    "            for chunk in response.iter_content(chunk_size=8192):\n",
    "                if chunk:\n",
    "                    file.write(chunk)\n",
    "                    pbar.update(len(chunk))\n",
    "        \n",
    "        print(f\"✓ Downloaded: {filename}\")\n",
    "        return True\n",
    "        \n",
    "    except Exception as e:\n",
    "        print(f\"✗ Failed to download {filename}: {str(e)}\")\n",
    "        # Remove partial file if it exists\n",
    "        if os.path.exists(filepath):\n",
    "            os.remove(filepath)\n",
    "        return False\n",
    "\n",
    "# Download all MP3 files\n",
    "print(f\"\\nStarting download of {len(mp3_links)} MP3 files...\")\n",
    "print(\"=\" * 60)\n",
    "\n",
    "successful_downloads = 0\n",
    "failed_downloads = 0\n",
    "\n",
    "for i, (url, filename) in enumerate(mp3_links, 1):\n",
    "    print(f\"\\n[{i}/{len(mp3_links)}] Downloading: {filename}\")\n",
    "    \n",
    "    if download_file(url, filename, downloads_dir):\n",
    "        successful_downloads += 1\n",
    "    else:\n",
    "        failed_downloads += 1\n",
    "    \n",
    "    # Small delay to be respectful to the server\n",
    "    time.sleep(0.5)\n",
    "\n",
    "print(\"\\n\" + \"=\" * 60)\n",
    "print(f\"Download Summary:\")\n",
    "print(f\"✓ Successful: {successful_downloads}\")\n",
    "print(f\"✗ Failed: {failed_downloads}\")\n",
    "print(f\"📁 Files saved to: {os.path.abspath(downloads_dir)}\")\n",
    "\n",
    "# List downloaded files\n",
    "downloaded_files = [f for f in os.listdir(downloads_dir) if f.endswith('.mp3')]\n",
    "print(f\"\\nDownloaded {len(downloaded_files)} MP3 files:\")\n",
    "for file in sorted(downloaded_files)[:10]:  # Show first 10\n",
    "    file_path = os.path.join(downloads_dir, file)\n",
    "    file_size = os.path.getsize(file_path) / (1024 * 1024)  # Size in MB\n",
    "    print(f\"  • {file} ({file_size:.1f} MB)\")\n",
    "if len(downloaded_files) > 10:\n",
    "    print(f\"  ... and {len(downloaded_files) - 10} more files\")\n"
   ]
  },
  {
   "cell_type": "code",
   "execution_count": null,
   "id": "cde55e64",
   "metadata": {},
   "outputs": [],
   "source": []
  },
  {
   "cell_type": "code",
   "execution_count": null,
   "id": "e2db73c4",
   "metadata": {},
   "outputs": [],
   "source": []
  },
  {
   "cell_type": "code",
   "execution_count": null,
   "id": "9b7e70a9",
   "metadata": {},
   "outputs": [],
   "source": []
  },
  {
   "cell_type": "code",
   "execution_count": null,
   "id": "cd562b46",
   "metadata": {},
   "outputs": [],
   "source": []
  }
 ],
 "metadata": {
  "kernelspec": {
   "display_name": ".venv",
   "language": "python",
   "name": "python3"
  },
  "language_info": {
   "codemirror_mode": {
    "name": "ipython",
    "version": 3
   },
   "file_extension": ".py",
   "mimetype": "text/x-python",
   "name": "python",
   "nbconvert_exporter": "python",
   "pygments_lexer": "ipython3",
   "version": "3.12.3"
  }
 },
 "nbformat": 4,
 "nbformat_minor": 5
}
